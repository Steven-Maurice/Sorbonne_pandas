{
 "cells": [
  {
   "cell_type": "markdown",
   "id": "bcf7bc52",
   "metadata": {},
   "source": [
    "# 🏡 Atelier EDA avec Pandas – Données Airbnb Paris\n",
    "\n",
    "Dans ce notebook, vous allez explorer les données d'annonces Airbnb à Paris à l'aide de `pandas`. L'objectif est de pratiquer les étapes classiques de l'EDA : lecture, nettoyage, analyse et visualisation."
   ]
  },
  {
   "cell_type": "code",
   "execution_count": 188,
   "id": "acd4b452",
   "metadata": {},
   "outputs": [],
   "source": [
    "import pandas as pd\n",
    "import matplotlib.pyplot as plt\n",
    "#import seaborn as sns\n",
    "\n",
    "# Configuration des options\n",
    "pd.set_option('display.max_columns', None)\n",
    "#sns.set(style='whitegrid')"
   ]
  },
  {
   "cell_type": "markdown",
   "id": "20f9b3d9",
   "metadata": {},
   "source": [
    "## Étape 1 : Chargement et première exploration"
   ]
  },
  {
   "cell_type": "code",
   "execution_count": 189,
   "id": "532b1ef9",
   "metadata": {},
   "outputs": [
    {
     "data": {
      "text/html": [
       "<div>\n",
       "<style scoped>\n",
       "    .dataframe tbody tr th:only-of-type {\n",
       "        vertical-align: middle;\n",
       "    }\n",
       "\n",
       "    .dataframe tbody tr th {\n",
       "        vertical-align: top;\n",
       "    }\n",
       "\n",
       "    .dataframe thead th {\n",
       "        text-align: right;\n",
       "    }\n",
       "</style>\n",
       "<table border=\"1\" class=\"dataframe\">\n",
       "  <thead>\n",
       "    <tr style=\"text-align: right;\">\n",
       "      <th></th>\n",
       "      <th>id</th>\n",
       "      <th>listing_url</th>\n",
       "      <th>scrape_id</th>\n",
       "      <th>last_scraped</th>\n",
       "      <th>source</th>\n",
       "      <th>name</th>\n",
       "      <th>description</th>\n",
       "      <th>neighborhood_overview</th>\n",
       "      <th>picture_url</th>\n",
       "      <th>host_id</th>\n",
       "      <th>host_url</th>\n",
       "      <th>host_name</th>\n",
       "      <th>host_since</th>\n",
       "      <th>host_location</th>\n",
       "      <th>host_about</th>\n",
       "      <th>host_response_time</th>\n",
       "      <th>host_response_rate</th>\n",
       "      <th>host_acceptance_rate</th>\n",
       "      <th>host_is_superhost</th>\n",
       "      <th>host_thumbnail_url</th>\n",
       "      <th>host_picture_url</th>\n",
       "      <th>host_neighbourhood</th>\n",
       "      <th>host_listings_count</th>\n",
       "      <th>host_total_listings_count</th>\n",
       "      <th>host_verifications</th>\n",
       "      <th>host_has_profile_pic</th>\n",
       "      <th>host_identity_verified</th>\n",
       "      <th>neighbourhood</th>\n",
       "      <th>neighbourhood_cleansed</th>\n",
       "      <th>neighbourhood_group_cleansed</th>\n",
       "      <th>latitude</th>\n",
       "      <th>longitude</th>\n",
       "      <th>property_type</th>\n",
       "      <th>room_type</th>\n",
       "      <th>accommodates</th>\n",
       "      <th>bathrooms</th>\n",
       "      <th>bathrooms_text</th>\n",
       "      <th>bedrooms</th>\n",
       "      <th>beds</th>\n",
       "      <th>amenities</th>\n",
       "      <th>price</th>\n",
       "      <th>minimum_nights</th>\n",
       "      <th>maximum_nights</th>\n",
       "      <th>minimum_minimum_nights</th>\n",
       "      <th>maximum_minimum_nights</th>\n",
       "      <th>minimum_maximum_nights</th>\n",
       "      <th>maximum_maximum_nights</th>\n",
       "      <th>minimum_nights_avg_ntm</th>\n",
       "      <th>maximum_nights_avg_ntm</th>\n",
       "      <th>calendar_updated</th>\n",
       "      <th>has_availability</th>\n",
       "      <th>availability_30</th>\n",
       "      <th>availability_60</th>\n",
       "      <th>availability_90</th>\n",
       "      <th>availability_365</th>\n",
       "      <th>calendar_last_scraped</th>\n",
       "      <th>number_of_reviews</th>\n",
       "      <th>number_of_reviews_ltm</th>\n",
       "      <th>number_of_reviews_l30d</th>\n",
       "      <th>first_review</th>\n",
       "      <th>last_review</th>\n",
       "      <th>review_scores_rating</th>\n",
       "      <th>review_scores_accuracy</th>\n",
       "      <th>review_scores_cleanliness</th>\n",
       "      <th>review_scores_checkin</th>\n",
       "      <th>review_scores_communication</th>\n",
       "      <th>review_scores_location</th>\n",
       "      <th>review_scores_value</th>\n",
       "      <th>license</th>\n",
       "      <th>instant_bookable</th>\n",
       "      <th>calculated_host_listings_count</th>\n",
       "      <th>calculated_host_listings_count_entire_homes</th>\n",
       "      <th>calculated_host_listings_count_private_rooms</th>\n",
       "      <th>calculated_host_listings_count_shared_rooms</th>\n",
       "      <th>reviews_per_month</th>\n",
       "    </tr>\n",
       "  </thead>\n",
       "  <tbody>\n",
       "    <tr>\n",
       "      <th>0</th>\n",
       "      <td>3109</td>\n",
       "      <td>https://www.airbnb.com/rooms/3109</td>\n",
       "      <td>20241206031559</td>\n",
       "      <td>2024-12-07</td>\n",
       "      <td>city scrape</td>\n",
       "      <td>zen and calm</td>\n",
       "      <td>Lovely Appartment with one bedroom with a Quee...</td>\n",
       "      <td>Good restaurants&lt;br /&gt;very close the Montparna...</td>\n",
       "      <td>https://a0.muscache.com/pictures/miso/Hosting-...</td>\n",
       "      <td>3631</td>\n",
       "      <td>https://www.airbnb.com/users/show/3631</td>\n",
       "      <td>Anne</td>\n",
       "      <td>2008-10-14</td>\n",
       "      <td>Paris, France</td>\n",
       "      <td>NaN</td>\n",
       "      <td>within an hour</td>\n",
       "      <td>100%</td>\n",
       "      <td>67%</td>\n",
       "      <td>f</td>\n",
       "      <td>https://a0.muscache.com/im/users/3631/profile_...</td>\n",
       "      <td>https://a0.muscache.com/im/users/3631/profile_...</td>\n",
       "      <td>Alésia</td>\n",
       "      <td>1.0</td>\n",
       "      <td>1.0</td>\n",
       "      <td>['email', 'phone']</td>\n",
       "      <td>t</td>\n",
       "      <td>t</td>\n",
       "      <td>Neighborhood highlights</td>\n",
       "      <td>Observatoire</td>\n",
       "      <td>NaN</td>\n",
       "      <td>48.83191</td>\n",
       "      <td>2.31870</td>\n",
       "      <td>Entire rental unit</td>\n",
       "      <td>Entire home/apt</td>\n",
       "      <td>2</td>\n",
       "      <td>1.0</td>\n",
       "      <td>1 bath</td>\n",
       "      <td>1.0</td>\n",
       "      <td>1.0</td>\n",
       "      <td>[\"Self check-in\", \"Hangers\", \"Children\\u2019s ...</td>\n",
       "      <td>$100.00</td>\n",
       "      <td>2</td>\n",
       "      <td>30</td>\n",
       "      <td>2</td>\n",
       "      <td>2</td>\n",
       "      <td>30</td>\n",
       "      <td>30</td>\n",
       "      <td>2.0</td>\n",
       "      <td>30.0</td>\n",
       "      <td>NaN</td>\n",
       "      <td>t</td>\n",
       "      <td>15</td>\n",
       "      <td>45</td>\n",
       "      <td>75</td>\n",
       "      <td>350</td>\n",
       "      <td>2024-12-07</td>\n",
       "      <td>4</td>\n",
       "      <td>0</td>\n",
       "      <td>0</td>\n",
       "      <td>2017-10-28</td>\n",
       "      <td>2019-10-24</td>\n",
       "      <td>5.00</td>\n",
       "      <td>5.00</td>\n",
       "      <td>5.00</td>\n",
       "      <td>5.00</td>\n",
       "      <td>5.00</td>\n",
       "      <td>5.00</td>\n",
       "      <td>5.00</td>\n",
       "      <td>7511409139079</td>\n",
       "      <td>t</td>\n",
       "      <td>1</td>\n",
       "      <td>1</td>\n",
       "      <td>0</td>\n",
       "      <td>0</td>\n",
       "      <td>0.05</td>\n",
       "    </tr>\n",
       "    <tr>\n",
       "      <th>1</th>\n",
       "      <td>5396</td>\n",
       "      <td>https://www.airbnb.com/rooms/5396</td>\n",
       "      <td>20241206031559</td>\n",
       "      <td>2024-12-09</td>\n",
       "      <td>city scrape</td>\n",
       "      <td>Your perfect Paris studio on Île Saint-Louis</td>\n",
       "      <td>NEW SOFA-BED SINCE JUNE 2023, Please disregard...</td>\n",
       "      <td>You are within walking distance to the Louvre,...</td>\n",
       "      <td>https://a0.muscache.com/pictures/52413/f9bf76f...</td>\n",
       "      <td>7903</td>\n",
       "      <td>https://www.airbnb.com/users/show/7903</td>\n",
       "      <td>Borzou</td>\n",
       "      <td>2009-02-14</td>\n",
       "      <td>Paris, France</td>\n",
       "      <td>We have spent a lot of time traveling for work...</td>\n",
       "      <td>within an hour</td>\n",
       "      <td>100%</td>\n",
       "      <td>91%</td>\n",
       "      <td>NaN</td>\n",
       "      <td>https://a0.muscache.com/im/users/7903/profile_...</td>\n",
       "      <td>https://a0.muscache.com/im/users/7903/profile_...</td>\n",
       "      <td>Saint-Paul - Ile Saint-Louis</td>\n",
       "      <td>2.0</td>\n",
       "      <td>4.0</td>\n",
       "      <td>['email', 'phone']</td>\n",
       "      <td>t</td>\n",
       "      <td>t</td>\n",
       "      <td>Neighborhood highlights</td>\n",
       "      <td>Hôtel-de-Ville</td>\n",
       "      <td>NaN</td>\n",
       "      <td>48.85247</td>\n",
       "      <td>2.35835</td>\n",
       "      <td>Entire rental unit</td>\n",
       "      <td>Entire home/apt</td>\n",
       "      <td>2</td>\n",
       "      <td>1.0</td>\n",
       "      <td>1 bath</td>\n",
       "      <td>0.0</td>\n",
       "      <td>1.0</td>\n",
       "      <td>[\"Hot water kettle\", \"Hangers\", \"Heating\", \"Co...</td>\n",
       "      <td>$88.00</td>\n",
       "      <td>3</td>\n",
       "      <td>730</td>\n",
       "      <td>1</td>\n",
       "      <td>3</td>\n",
       "      <td>1125</td>\n",
       "      <td>1125</td>\n",
       "      <td>3.0</td>\n",
       "      <td>1125.0</td>\n",
       "      <td>NaN</td>\n",
       "      <td>t</td>\n",
       "      <td>6</td>\n",
       "      <td>24</td>\n",
       "      <td>54</td>\n",
       "      <td>77</td>\n",
       "      <td>2024-12-09</td>\n",
       "      <td>425</td>\n",
       "      <td>51</td>\n",
       "      <td>2</td>\n",
       "      <td>2009-06-30</td>\n",
       "      <td>2024-11-23</td>\n",
       "      <td>4.62</td>\n",
       "      <td>4.64</td>\n",
       "      <td>4.59</td>\n",
       "      <td>4.82</td>\n",
       "      <td>4.85</td>\n",
       "      <td>4.96</td>\n",
       "      <td>4.59</td>\n",
       "      <td>7510402838018</td>\n",
       "      <td>f</td>\n",
       "      <td>1</td>\n",
       "      <td>1</td>\n",
       "      <td>0</td>\n",
       "      <td>0</td>\n",
       "      <td>2.26</td>\n",
       "    </tr>\n",
       "    <tr>\n",
       "      <th>2</th>\n",
       "      <td>7397</td>\n",
       "      <td>https://www.airbnb.com/rooms/7397</td>\n",
       "      <td>20241206031559</td>\n",
       "      <td>2024-12-08</td>\n",
       "      <td>city scrape</td>\n",
       "      <td>MARAIS - 2ROOMS APT - 2/4 PEOPLE</td>\n",
       "      <td>VERY CONVENIENT, WITH THE BEST LOCATION !</td>\n",
       "      <td>NaN</td>\n",
       "      <td>https://a0.muscache.com/pictures/67928287/330b...</td>\n",
       "      <td>2626</td>\n",
       "      <td>https://www.airbnb.com/users/show/2626</td>\n",
       "      <td>Franck</td>\n",
       "      <td>2008-08-30</td>\n",
       "      <td>Paris, France</td>\n",
       "      <td>I am a writer,54, author of novels, books of l...</td>\n",
       "      <td>within an hour</td>\n",
       "      <td>100%</td>\n",
       "      <td>68%</td>\n",
       "      <td>t</td>\n",
       "      <td>https://a0.muscache.com/im/pictures/user/ad6a9...</td>\n",
       "      <td>https://a0.muscache.com/im/pictures/user/ad6a9...</td>\n",
       "      <td>Le Marais</td>\n",
       "      <td>2.0</td>\n",
       "      <td>10.0</td>\n",
       "      <td>['email', 'phone']</td>\n",
       "      <td>t</td>\n",
       "      <td>t</td>\n",
       "      <td>NaN</td>\n",
       "      <td>Hôtel-de-Ville</td>\n",
       "      <td>NaN</td>\n",
       "      <td>48.85909</td>\n",
       "      <td>2.35315</td>\n",
       "      <td>Entire rental unit</td>\n",
       "      <td>Entire home/apt</td>\n",
       "      <td>4</td>\n",
       "      <td>1.0</td>\n",
       "      <td>1 bath</td>\n",
       "      <td>2.0</td>\n",
       "      <td>1.0</td>\n",
       "      <td>[\"Hangers\", \"Coffee maker\", \"Heating\", \"Dryer\"...</td>\n",
       "      <td>$136.00</td>\n",
       "      <td>10</td>\n",
       "      <td>130</td>\n",
       "      <td>4</td>\n",
       "      <td>10</td>\n",
       "      <td>130</td>\n",
       "      <td>130</td>\n",
       "      <td>9.9</td>\n",
       "      <td>130.0</td>\n",
       "      <td>NaN</td>\n",
       "      <td>t</td>\n",
       "      <td>9</td>\n",
       "      <td>39</td>\n",
       "      <td>62</td>\n",
       "      <td>199</td>\n",
       "      <td>2024-12-08</td>\n",
       "      <td>367</td>\n",
       "      <td>23</td>\n",
       "      <td>2</td>\n",
       "      <td>2011-04-08</td>\n",
       "      <td>2024-11-24</td>\n",
       "      <td>4.73</td>\n",
       "      <td>4.81</td>\n",
       "      <td>4.45</td>\n",
       "      <td>4.92</td>\n",
       "      <td>4.89</td>\n",
       "      <td>4.94</td>\n",
       "      <td>4.74</td>\n",
       "      <td>7510400829623</td>\n",
       "      <td>f</td>\n",
       "      <td>2</td>\n",
       "      <td>2</td>\n",
       "      <td>0</td>\n",
       "      <td>0</td>\n",
       "      <td>2.20</td>\n",
       "    </tr>\n",
       "    <tr>\n",
       "      <th>3</th>\n",
       "      <td>7964</td>\n",
       "      <td>https://www.airbnb.com/rooms/7964</td>\n",
       "      <td>20241206031559</td>\n",
       "      <td>2024-12-09</td>\n",
       "      <td>previous scrape</td>\n",
       "      <td>Sunny apartment with balcony</td>\n",
       "      <td>We are renting our a spacious, sunny fully fur...</td>\n",
       "      <td>NaN</td>\n",
       "      <td>https://a0.muscache.com/pictures/miso/Hosting-...</td>\n",
       "      <td>22155</td>\n",
       "      <td>https://www.airbnb.com/users/show/22155</td>\n",
       "      <td>Anaïs</td>\n",
       "      <td>2009-06-18</td>\n",
       "      <td>Paris, France</td>\n",
       "      <td>Hello ! \\r\\nOur apartment is great and I am su...</td>\n",
       "      <td>NaN</td>\n",
       "      <td>NaN</td>\n",
       "      <td>0%</td>\n",
       "      <td>f</td>\n",
       "      <td>https://a0.muscache.com/im/pictures/user/975c3...</td>\n",
       "      <td>https://a0.muscache.com/im/pictures/user/975c3...</td>\n",
       "      <td>Gare du Nord - Gare de I'Est</td>\n",
       "      <td>1.0</td>\n",
       "      <td>1.0</td>\n",
       "      <td>['phone']</td>\n",
       "      <td>t</td>\n",
       "      <td>t</td>\n",
       "      <td>NaN</td>\n",
       "      <td>Opéra</td>\n",
       "      <td>NaN</td>\n",
       "      <td>48.87417</td>\n",
       "      <td>2.34245</td>\n",
       "      <td>Entire rental unit</td>\n",
       "      <td>Entire home/apt</td>\n",
       "      <td>3</td>\n",
       "      <td>NaN</td>\n",
       "      <td>1 bath</td>\n",
       "      <td>2.0</td>\n",
       "      <td>NaN</td>\n",
       "      <td>[\"Hot water kettle\", \"Hangers\", \"Heating\", \"Co...</td>\n",
       "      <td>NaN</td>\n",
       "      <td>7</td>\n",
       "      <td>365</td>\n",
       "      <td>7</td>\n",
       "      <td>7</td>\n",
       "      <td>365</td>\n",
       "      <td>365</td>\n",
       "      <td>7.0</td>\n",
       "      <td>365.0</td>\n",
       "      <td>NaN</td>\n",
       "      <td>t</td>\n",
       "      <td>0</td>\n",
       "      <td>0</td>\n",
       "      <td>0</td>\n",
       "      <td>0</td>\n",
       "      <td>2024-12-09</td>\n",
       "      <td>5</td>\n",
       "      <td>0</td>\n",
       "      <td>0</td>\n",
       "      <td>2010-05-10</td>\n",
       "      <td>2015-09-14</td>\n",
       "      <td>4.80</td>\n",
       "      <td>5.00</td>\n",
       "      <td>5.00</td>\n",
       "      <td>5.00</td>\n",
       "      <td>5.00</td>\n",
       "      <td>5.00</td>\n",
       "      <td>5.00</td>\n",
       "      <td>7510903576564</td>\n",
       "      <td>f</td>\n",
       "      <td>1</td>\n",
       "      <td>1</td>\n",
       "      <td>0</td>\n",
       "      <td>0</td>\n",
       "      <td>0.03</td>\n",
       "    </tr>\n",
       "    <tr>\n",
       "      <th>4</th>\n",
       "      <td>9359</td>\n",
       "      <td>https://www.airbnb.com/rooms/9359</td>\n",
       "      <td>20241206031559</td>\n",
       "      <td>2024-12-09</td>\n",
       "      <td>city scrape</td>\n",
       "      <td>Cozy, Central Paris: WALK or VELIB EVERYWHERE !</td>\n",
       "      <td>Location! Location! Location! Just bring your ...</td>\n",
       "      <td>NaN</td>\n",
       "      <td>https://a0.muscache.com/pictures/c2965945-061f...</td>\n",
       "      <td>28422</td>\n",
       "      <td>https://www.airbnb.com/users/show/28422</td>\n",
       "      <td>Bernadette</td>\n",
       "      <td>2009-07-29</td>\n",
       "      <td>New York, NY</td>\n",
       "      <td>I am a Native New Yorker (yes, I was born and ...</td>\n",
       "      <td>NaN</td>\n",
       "      <td>NaN</td>\n",
       "      <td>NaN</td>\n",
       "      <td>f</td>\n",
       "      <td>https://a0.muscache.com/im/users/28422/profile...</td>\n",
       "      <td>https://a0.muscache.com/im/users/28422/profile...</td>\n",
       "      <td>Châtelet - Les Halles - Beaubourg</td>\n",
       "      <td>2.0</td>\n",
       "      <td>4.0</td>\n",
       "      <td>['email', 'phone']</td>\n",
       "      <td>t</td>\n",
       "      <td>t</td>\n",
       "      <td>NaN</td>\n",
       "      <td>Louvre</td>\n",
       "      <td>NaN</td>\n",
       "      <td>48.85898</td>\n",
       "      <td>2.34701</td>\n",
       "      <td>Entire rental unit</td>\n",
       "      <td>Entire home/apt</td>\n",
       "      <td>1</td>\n",
       "      <td>1.0</td>\n",
       "      <td>1 bath</td>\n",
       "      <td>1.0</td>\n",
       "      <td>1.0</td>\n",
       "      <td>[\"Heating\", \"Wifi\", \"Elevator\", \"Dedicated wor...</td>\n",
       "      <td>$75.00</td>\n",
       "      <td>180</td>\n",
       "      <td>360</td>\n",
       "      <td>180</td>\n",
       "      <td>180</td>\n",
       "      <td>360</td>\n",
       "      <td>360</td>\n",
       "      <td>180.0</td>\n",
       "      <td>360.0</td>\n",
       "      <td>NaN</td>\n",
       "      <td>t</td>\n",
       "      <td>23</td>\n",
       "      <td>53</td>\n",
       "      <td>83</td>\n",
       "      <td>358</td>\n",
       "      <td>2024-12-09</td>\n",
       "      <td>0</td>\n",
       "      <td>0</td>\n",
       "      <td>0</td>\n",
       "      <td>NaN</td>\n",
       "      <td>NaN</td>\n",
       "      <td>NaN</td>\n",
       "      <td>NaN</td>\n",
       "      <td>NaN</td>\n",
       "      <td>NaN</td>\n",
       "      <td>NaN</td>\n",
       "      <td>NaN</td>\n",
       "      <td>NaN</td>\n",
       "      <td>Available with a mobility lease only (\"bail mo...</td>\n",
       "      <td>f</td>\n",
       "      <td>1</td>\n",
       "      <td>1</td>\n",
       "      <td>0</td>\n",
       "      <td>0</td>\n",
       "      <td>NaN</td>\n",
       "    </tr>\n",
       "  </tbody>\n",
       "</table>\n",
       "</div>"
      ],
      "text/plain": [
       "     id                        listing_url       scrape_id last_scraped  \\\n",
       "0  3109  https://www.airbnb.com/rooms/3109  20241206031559   2024-12-07   \n",
       "1  5396  https://www.airbnb.com/rooms/5396  20241206031559   2024-12-09   \n",
       "2  7397  https://www.airbnb.com/rooms/7397  20241206031559   2024-12-08   \n",
       "3  7964  https://www.airbnb.com/rooms/7964  20241206031559   2024-12-09   \n",
       "4  9359  https://www.airbnb.com/rooms/9359  20241206031559   2024-12-09   \n",
       "\n",
       "            source                                             name  \\\n",
       "0      city scrape                                     zen and calm   \n",
       "1      city scrape     Your perfect Paris studio on Île Saint-Louis   \n",
       "2      city scrape                 MARAIS - 2ROOMS APT - 2/4 PEOPLE   \n",
       "3  previous scrape                     Sunny apartment with balcony   \n",
       "4      city scrape  Cozy, Central Paris: WALK or VELIB EVERYWHERE !   \n",
       "\n",
       "                                         description  \\\n",
       "0  Lovely Appartment with one bedroom with a Quee...   \n",
       "1  NEW SOFA-BED SINCE JUNE 2023, Please disregard...   \n",
       "2          VERY CONVENIENT, WITH THE BEST LOCATION !   \n",
       "3  We are renting our a spacious, sunny fully fur...   \n",
       "4  Location! Location! Location! Just bring your ...   \n",
       "\n",
       "                               neighborhood_overview  \\\n",
       "0  Good restaurants<br />very close the Montparna...   \n",
       "1  You are within walking distance to the Louvre,...   \n",
       "2                                                NaN   \n",
       "3                                                NaN   \n",
       "4                                                NaN   \n",
       "\n",
       "                                         picture_url  host_id  \\\n",
       "0  https://a0.muscache.com/pictures/miso/Hosting-...     3631   \n",
       "1  https://a0.muscache.com/pictures/52413/f9bf76f...     7903   \n",
       "2  https://a0.muscache.com/pictures/67928287/330b...     2626   \n",
       "3  https://a0.muscache.com/pictures/miso/Hosting-...    22155   \n",
       "4  https://a0.muscache.com/pictures/c2965945-061f...    28422   \n",
       "\n",
       "                                  host_url   host_name  host_since  \\\n",
       "0   https://www.airbnb.com/users/show/3631        Anne  2008-10-14   \n",
       "1   https://www.airbnb.com/users/show/7903      Borzou  2009-02-14   \n",
       "2   https://www.airbnb.com/users/show/2626      Franck  2008-08-30   \n",
       "3  https://www.airbnb.com/users/show/22155       Anaïs  2009-06-18   \n",
       "4  https://www.airbnb.com/users/show/28422  Bernadette  2009-07-29   \n",
       "\n",
       "   host_location                                         host_about  \\\n",
       "0  Paris, France                                                NaN   \n",
       "1  Paris, France  We have spent a lot of time traveling for work...   \n",
       "2  Paris, France  I am a writer,54, author of novels, books of l...   \n",
       "3  Paris, France  Hello ! \\r\\nOur apartment is great and I am su...   \n",
       "4   New York, NY  I am a Native New Yorker (yes, I was born and ...   \n",
       "\n",
       "  host_response_time host_response_rate host_acceptance_rate  \\\n",
       "0     within an hour               100%                  67%   \n",
       "1     within an hour               100%                  91%   \n",
       "2     within an hour               100%                  68%   \n",
       "3                NaN                NaN                   0%   \n",
       "4                NaN                NaN                  NaN   \n",
       "\n",
       "  host_is_superhost                                 host_thumbnail_url  \\\n",
       "0                 f  https://a0.muscache.com/im/users/3631/profile_...   \n",
       "1               NaN  https://a0.muscache.com/im/users/7903/profile_...   \n",
       "2                 t  https://a0.muscache.com/im/pictures/user/ad6a9...   \n",
       "3                 f  https://a0.muscache.com/im/pictures/user/975c3...   \n",
       "4                 f  https://a0.muscache.com/im/users/28422/profile...   \n",
       "\n",
       "                                    host_picture_url  \\\n",
       "0  https://a0.muscache.com/im/users/3631/profile_...   \n",
       "1  https://a0.muscache.com/im/users/7903/profile_...   \n",
       "2  https://a0.muscache.com/im/pictures/user/ad6a9...   \n",
       "3  https://a0.muscache.com/im/pictures/user/975c3...   \n",
       "4  https://a0.muscache.com/im/users/28422/profile...   \n",
       "\n",
       "                  host_neighbourhood  host_listings_count  \\\n",
       "0                             Alésia                  1.0   \n",
       "1       Saint-Paul - Ile Saint-Louis                  2.0   \n",
       "2                          Le Marais                  2.0   \n",
       "3       Gare du Nord - Gare de I'Est                  1.0   \n",
       "4  Châtelet - Les Halles - Beaubourg                  2.0   \n",
       "\n",
       "   host_total_listings_count  host_verifications host_has_profile_pic  \\\n",
       "0                        1.0  ['email', 'phone']                    t   \n",
       "1                        4.0  ['email', 'phone']                    t   \n",
       "2                       10.0  ['email', 'phone']                    t   \n",
       "3                        1.0           ['phone']                    t   \n",
       "4                        4.0  ['email', 'phone']                    t   \n",
       "\n",
       "  host_identity_verified            neighbourhood neighbourhood_cleansed  \\\n",
       "0                      t  Neighborhood highlights           Observatoire   \n",
       "1                      t  Neighborhood highlights         Hôtel-de-Ville   \n",
       "2                      t                      NaN         Hôtel-de-Ville   \n",
       "3                      t                      NaN                  Opéra   \n",
       "4                      t                      NaN                 Louvre   \n",
       "\n",
       "   neighbourhood_group_cleansed  latitude  longitude       property_type  \\\n",
       "0                           NaN  48.83191    2.31870  Entire rental unit   \n",
       "1                           NaN  48.85247    2.35835  Entire rental unit   \n",
       "2                           NaN  48.85909    2.35315  Entire rental unit   \n",
       "3                           NaN  48.87417    2.34245  Entire rental unit   \n",
       "4                           NaN  48.85898    2.34701  Entire rental unit   \n",
       "\n",
       "         room_type  accommodates  bathrooms bathrooms_text  bedrooms  beds  \\\n",
       "0  Entire home/apt             2        1.0         1 bath       1.0   1.0   \n",
       "1  Entire home/apt             2        1.0         1 bath       0.0   1.0   \n",
       "2  Entire home/apt             4        1.0         1 bath       2.0   1.0   \n",
       "3  Entire home/apt             3        NaN         1 bath       2.0   NaN   \n",
       "4  Entire home/apt             1        1.0         1 bath       1.0   1.0   \n",
       "\n",
       "                                           amenities    price  minimum_nights  \\\n",
       "0  [\"Self check-in\", \"Hangers\", \"Children\\u2019s ...  $100.00               2   \n",
       "1  [\"Hot water kettle\", \"Hangers\", \"Heating\", \"Co...   $88.00               3   \n",
       "2  [\"Hangers\", \"Coffee maker\", \"Heating\", \"Dryer\"...  $136.00              10   \n",
       "3  [\"Hot water kettle\", \"Hangers\", \"Heating\", \"Co...      NaN               7   \n",
       "4  [\"Heating\", \"Wifi\", \"Elevator\", \"Dedicated wor...   $75.00             180   \n",
       "\n",
       "   maximum_nights  minimum_minimum_nights  maximum_minimum_nights  \\\n",
       "0              30                       2                       2   \n",
       "1             730                       1                       3   \n",
       "2             130                       4                      10   \n",
       "3             365                       7                       7   \n",
       "4             360                     180                     180   \n",
       "\n",
       "   minimum_maximum_nights  maximum_maximum_nights  minimum_nights_avg_ntm  \\\n",
       "0                      30                      30                     2.0   \n",
       "1                    1125                    1125                     3.0   \n",
       "2                     130                     130                     9.9   \n",
       "3                     365                     365                     7.0   \n",
       "4                     360                     360                   180.0   \n",
       "\n",
       "   maximum_nights_avg_ntm  calendar_updated has_availability  availability_30  \\\n",
       "0                    30.0               NaN                t               15   \n",
       "1                  1125.0               NaN                t                6   \n",
       "2                   130.0               NaN                t                9   \n",
       "3                   365.0               NaN                t                0   \n",
       "4                   360.0               NaN                t               23   \n",
       "\n",
       "   availability_60  availability_90  availability_365 calendar_last_scraped  \\\n",
       "0               45               75               350            2024-12-07   \n",
       "1               24               54                77            2024-12-09   \n",
       "2               39               62               199            2024-12-08   \n",
       "3                0                0                 0            2024-12-09   \n",
       "4               53               83               358            2024-12-09   \n",
       "\n",
       "   number_of_reviews  number_of_reviews_ltm  number_of_reviews_l30d  \\\n",
       "0                  4                      0                       0   \n",
       "1                425                     51                       2   \n",
       "2                367                     23                       2   \n",
       "3                  5                      0                       0   \n",
       "4                  0                      0                       0   \n",
       "\n",
       "  first_review last_review  review_scores_rating  review_scores_accuracy  \\\n",
       "0   2017-10-28  2019-10-24                  5.00                    5.00   \n",
       "1   2009-06-30  2024-11-23                  4.62                    4.64   \n",
       "2   2011-04-08  2024-11-24                  4.73                    4.81   \n",
       "3   2010-05-10  2015-09-14                  4.80                    5.00   \n",
       "4          NaN         NaN                   NaN                     NaN   \n",
       "\n",
       "   review_scores_cleanliness  review_scores_checkin  \\\n",
       "0                       5.00                   5.00   \n",
       "1                       4.59                   4.82   \n",
       "2                       4.45                   4.92   \n",
       "3                       5.00                   5.00   \n",
       "4                        NaN                    NaN   \n",
       "\n",
       "   review_scores_communication  review_scores_location  review_scores_value  \\\n",
       "0                         5.00                    5.00                 5.00   \n",
       "1                         4.85                    4.96                 4.59   \n",
       "2                         4.89                    4.94                 4.74   \n",
       "3                         5.00                    5.00                 5.00   \n",
       "4                          NaN                     NaN                  NaN   \n",
       "\n",
       "                                             license instant_bookable  \\\n",
       "0                                      7511409139079                t   \n",
       "1                                      7510402838018                f   \n",
       "2                                      7510400829623                f   \n",
       "3                                      7510903576564                f   \n",
       "4  Available with a mobility lease only (\"bail mo...                f   \n",
       "\n",
       "   calculated_host_listings_count  \\\n",
       "0                               1   \n",
       "1                               1   \n",
       "2                               2   \n",
       "3                               1   \n",
       "4                               1   \n",
       "\n",
       "   calculated_host_listings_count_entire_homes  \\\n",
       "0                                            1   \n",
       "1                                            1   \n",
       "2                                            2   \n",
       "3                                            1   \n",
       "4                                            1   \n",
       "\n",
       "   calculated_host_listings_count_private_rooms  \\\n",
       "0                                             0   \n",
       "1                                             0   \n",
       "2                                             0   \n",
       "3                                             0   \n",
       "4                                             0   \n",
       "\n",
       "   calculated_host_listings_count_shared_rooms  reviews_per_month  \n",
       "0                                            0               0.05  \n",
       "1                                            0               2.26  \n",
       "2                                            0               2.20  \n",
       "3                                            0               0.03  \n",
       "4                                            0                NaN  "
      ]
     },
     "execution_count": 189,
     "metadata": {},
     "output_type": "execute_result"
    }
   ],
   "source": [
    "# Remplace par le chemin vers le fichier listings.csv téléchargé sur Inside Airbnb\n",
    "file_path = 'listings.csv'\n",
    "df = pd.read_csv(file_path, parse_dates=True)\n",
    "df.head()"
   ]
  },
  {
   "cell_type": "code",
   "execution_count": 190,
   "id": "45460287",
   "metadata": {},
   "outputs": [
    {
     "data": {
      "text/plain": [
       "(91031, 75)"
      ]
     },
     "execution_count": 190,
     "metadata": {},
     "output_type": "execute_result"
    }
   ],
   "source": [
    "df.shape  # Dimensions"
   ]
  },
  {
   "cell_type": "markdown",
   "id": "323b6711",
   "metadata": {},
   "source": [
    "Si le dataset est trop lourd, on peut réduire sa taille avec loc"
   ]
  },
  {
   "cell_type": "markdown",
   "id": "d481d194",
   "metadata": {},
   "source": [
    "df = df.loc[:5000,:]"
   ]
  },
  {
   "cell_type": "code",
   "execution_count": 191,
   "id": "de928738",
   "metadata": {},
   "outputs": [
    {
     "data": {
      "text/plain": [
       "id                                                int64\n",
       "listing_url                                      object\n",
       "scrape_id                                         int64\n",
       "last_scraped                                     object\n",
       "source                                           object\n",
       "name                                             object\n",
       "description                                      object\n",
       "neighborhood_overview                            object\n",
       "picture_url                                      object\n",
       "host_id                                           int64\n",
       "host_url                                         object\n",
       "host_name                                        object\n",
       "host_since                                       object\n",
       "host_location                                    object\n",
       "host_about                                       object\n",
       "host_response_time                               object\n",
       "host_response_rate                               object\n",
       "host_acceptance_rate                             object\n",
       "host_is_superhost                                object\n",
       "host_thumbnail_url                               object\n",
       "host_picture_url                                 object\n",
       "host_neighbourhood                               object\n",
       "host_listings_count                             float64\n",
       "host_total_listings_count                       float64\n",
       "host_verifications                               object\n",
       "host_has_profile_pic                             object\n",
       "host_identity_verified                           object\n",
       "neighbourhood                                    object\n",
       "neighbourhood_cleansed                           object\n",
       "neighbourhood_group_cleansed                    float64\n",
       "latitude                                        float64\n",
       "longitude                                       float64\n",
       "property_type                                    object\n",
       "room_type                                        object\n",
       "accommodates                                      int64\n",
       "bathrooms                                       float64\n",
       "bathrooms_text                                   object\n",
       "bedrooms                                        float64\n",
       "beds                                            float64\n",
       "amenities                                        object\n",
       "price                                            object\n",
       "minimum_nights                                    int64\n",
       "maximum_nights                                    int64\n",
       "minimum_minimum_nights                            int64\n",
       "maximum_minimum_nights                            int64\n",
       "minimum_maximum_nights                            int64\n",
       "maximum_maximum_nights                            int64\n",
       "minimum_nights_avg_ntm                          float64\n",
       "maximum_nights_avg_ntm                          float64\n",
       "calendar_updated                                float64\n",
       "has_availability                                 object\n",
       "availability_30                                   int64\n",
       "availability_60                                   int64\n",
       "availability_90                                   int64\n",
       "availability_365                                  int64\n",
       "calendar_last_scraped                            object\n",
       "number_of_reviews                                 int64\n",
       "number_of_reviews_ltm                             int64\n",
       "number_of_reviews_l30d                            int64\n",
       "first_review                                     object\n",
       "last_review                                      object\n",
       "review_scores_rating                            float64\n",
       "review_scores_accuracy                          float64\n",
       "review_scores_cleanliness                       float64\n",
       "review_scores_checkin                           float64\n",
       "review_scores_communication                     float64\n",
       "review_scores_location                          float64\n",
       "review_scores_value                             float64\n",
       "license                                          object\n",
       "instant_bookable                                 object\n",
       "calculated_host_listings_count                    int64\n",
       "calculated_host_listings_count_entire_homes       int64\n",
       "calculated_host_listings_count_private_rooms      int64\n",
       "calculated_host_listings_count_shared_rooms       int64\n",
       "reviews_per_month                               float64\n",
       "dtype: object"
      ]
     },
     "execution_count": 191,
     "metadata": {},
     "output_type": "execute_result"
    }
   ],
   "source": [
    "df.dtypes  # Types de données"
   ]
  },
  {
   "cell_type": "code",
   "execution_count": 192,
   "id": "bdf26a6e",
   "metadata": {},
   "outputs": [
    {
     "data": {
      "text/plain": [
       "object     35\n",
       "int64      21\n",
       "float64    19\n",
       "Name: count, dtype: int64"
      ]
     },
     "execution_count": 192,
     "metadata": {},
     "output_type": "execute_result"
    }
   ],
   "source": [
    "df.dtypes.value_counts()  # Compte le nombre d'entrées par type de données"
   ]
  },
  {
   "cell_type": "code",
   "execution_count": 193,
   "id": "dce2daeb",
   "metadata": {},
   "outputs": [
    {
     "data": {
      "text/plain": [
       "id                                              int64\n",
       "scrape_id                                       int64\n",
       "host_id                                         int64\n",
       "accommodates                                    int64\n",
       "minimum_nights                                  int64\n",
       "maximum_nights                                  int64\n",
       "minimum_minimum_nights                          int64\n",
       "maximum_minimum_nights                          int64\n",
       "minimum_maximum_nights                          int64\n",
       "maximum_maximum_nights                          int64\n",
       "availability_30                                 int64\n",
       "availability_60                                 int64\n",
       "availability_90                                 int64\n",
       "availability_365                                int64\n",
       "number_of_reviews                               int64\n",
       "number_of_reviews_ltm                           int64\n",
       "number_of_reviews_l30d                          int64\n",
       "calculated_host_listings_count                  int64\n",
       "calculated_host_listings_count_entire_homes     int64\n",
       "calculated_host_listings_count_private_rooms    int64\n",
       "calculated_host_listings_count_shared_rooms     int64\n",
       "dtype: object"
      ]
     },
     "execution_count": 193,
     "metadata": {},
     "output_type": "execute_result"
    }
   ],
   "source": [
    "df.dtypes[df.dtypes == 'int64']"
   ]
  },
  {
   "cell_type": "code",
   "execution_count": 194,
   "id": "65767ccc",
   "metadata": {},
   "outputs": [
    {
     "data": {
      "text/html": [
       "<div>\n",
       "<style scoped>\n",
       "    .dataframe tbody tr th:only-of-type {\n",
       "        vertical-align: middle;\n",
       "    }\n",
       "\n",
       "    .dataframe tbody tr th {\n",
       "        vertical-align: top;\n",
       "    }\n",
       "\n",
       "    .dataframe thead th {\n",
       "        text-align: right;\n",
       "    }\n",
       "</style>\n",
       "<table border=\"1\" class=\"dataframe\">\n",
       "  <thead>\n",
       "    <tr style=\"text-align: right;\">\n",
       "      <th></th>\n",
       "      <th>id</th>\n",
       "      <th>scrape_id</th>\n",
       "      <th>host_id</th>\n",
       "      <th>host_listings_count</th>\n",
       "      <th>host_total_listings_count</th>\n",
       "      <th>neighbourhood_group_cleansed</th>\n",
       "      <th>latitude</th>\n",
       "      <th>longitude</th>\n",
       "      <th>accommodates</th>\n",
       "      <th>bathrooms</th>\n",
       "      <th>bedrooms</th>\n",
       "      <th>beds</th>\n",
       "      <th>minimum_nights</th>\n",
       "      <th>maximum_nights</th>\n",
       "      <th>minimum_minimum_nights</th>\n",
       "      <th>maximum_minimum_nights</th>\n",
       "      <th>minimum_maximum_nights</th>\n",
       "      <th>maximum_maximum_nights</th>\n",
       "      <th>minimum_nights_avg_ntm</th>\n",
       "      <th>maximum_nights_avg_ntm</th>\n",
       "      <th>calendar_updated</th>\n",
       "      <th>availability_30</th>\n",
       "      <th>availability_60</th>\n",
       "      <th>availability_90</th>\n",
       "      <th>availability_365</th>\n",
       "      <th>number_of_reviews</th>\n",
       "      <th>number_of_reviews_ltm</th>\n",
       "      <th>number_of_reviews_l30d</th>\n",
       "      <th>review_scores_rating</th>\n",
       "      <th>review_scores_accuracy</th>\n",
       "      <th>review_scores_cleanliness</th>\n",
       "      <th>review_scores_checkin</th>\n",
       "      <th>review_scores_communication</th>\n",
       "      <th>review_scores_location</th>\n",
       "      <th>review_scores_value</th>\n",
       "      <th>calculated_host_listings_count</th>\n",
       "      <th>calculated_host_listings_count_entire_homes</th>\n",
       "      <th>calculated_host_listings_count_private_rooms</th>\n",
       "      <th>calculated_host_listings_count_shared_rooms</th>\n",
       "      <th>reviews_per_month</th>\n",
       "    </tr>\n",
       "  </thead>\n",
       "  <tbody>\n",
       "    <tr>\n",
       "      <th>count</th>\n",
       "      <td>9.103100e+04</td>\n",
       "      <td>9.103100e+04</td>\n",
       "      <td>9.103100e+04</td>\n",
       "      <td>91022.000000</td>\n",
       "      <td>91022.000000</td>\n",
       "      <td>0.0</td>\n",
       "      <td>91031.000000</td>\n",
       "      <td>91031.000000</td>\n",
       "      <td>91031.000000</td>\n",
       "      <td>60114.000000</td>\n",
       "      <td>83700.000000</td>\n",
       "      <td>59944.000000</td>\n",
       "      <td>91031.000000</td>\n",
       "      <td>9.103100e+04</td>\n",
       "      <td>91031.000000</td>\n",
       "      <td>91031.000000</td>\n",
       "      <td>9.103100e+04</td>\n",
       "      <td>9.103100e+04</td>\n",
       "      <td>91031.000000</td>\n",
       "      <td>9.103100e+04</td>\n",
       "      <td>0.0</td>\n",
       "      <td>91031.000000</td>\n",
       "      <td>91031.000000</td>\n",
       "      <td>91031.000000</td>\n",
       "      <td>91031.000000</td>\n",
       "      <td>91031.000000</td>\n",
       "      <td>91031.000000</td>\n",
       "      <td>91031.000000</td>\n",
       "      <td>67176.000000</td>\n",
       "      <td>67164.000000</td>\n",
       "      <td>67167.000000</td>\n",
       "      <td>67157.000000</td>\n",
       "      <td>67166.000000</td>\n",
       "      <td>67158.000000</td>\n",
       "      <td>67156.000000</td>\n",
       "      <td>91031.000000</td>\n",
       "      <td>91031.000000</td>\n",
       "      <td>91031.000000</td>\n",
       "      <td>91031.000000</td>\n",
       "      <td>67176.000000</td>\n",
       "    </tr>\n",
       "    <tr>\n",
       "      <th>mean</th>\n",
       "      <td>6.081553e+17</td>\n",
       "      <td>2.024121e+13</td>\n",
       "      <td>1.818846e+08</td>\n",
       "      <td>30.396596</td>\n",
       "      <td>38.665465</td>\n",
       "      <td>NaN</td>\n",
       "      <td>48.864181</td>\n",
       "      <td>2.343099</td>\n",
       "      <td>3.229274</td>\n",
       "      <td>1.199737</td>\n",
       "      <td>1.337634</td>\n",
       "      <td>1.785984</td>\n",
       "      <td>41.515945</td>\n",
       "      <td>5.978474e+02</td>\n",
       "      <td>40.629401</td>\n",
       "      <td>48.117345</td>\n",
       "      <td>7.139857e+04</td>\n",
       "      <td>7.143443e+04</td>\n",
       "      <td>41.610112</td>\n",
       "      <td>7.141342e+04</td>\n",
       "      <td>NaN</td>\n",
       "      <td>9.387538</td>\n",
       "      <td>21.670046</td>\n",
       "      <td>35.048335</td>\n",
       "      <td>133.604014</td>\n",
       "      <td>22.662719</td>\n",
       "      <td>5.910613</td>\n",
       "      <td>0.422340</td>\n",
       "      <td>4.722760</td>\n",
       "      <td>4.770729</td>\n",
       "      <td>4.656672</td>\n",
       "      <td>4.805165</td>\n",
       "      <td>4.827823</td>\n",
       "      <td>4.818905</td>\n",
       "      <td>4.624605</td>\n",
       "      <td>23.583010</td>\n",
       "      <td>22.522558</td>\n",
       "      <td>0.981808</td>\n",
       "      <td>0.019235</td>\n",
       "      <td>1.065495</td>\n",
       "    </tr>\n",
       "    <tr>\n",
       "      <th>std</th>\n",
       "      <td>5.127971e+17</td>\n",
       "      <td>0.000000e+00</td>\n",
       "      <td>2.006094e+08</td>\n",
       "      <td>127.009105</td>\n",
       "      <td>159.747472</td>\n",
       "      <td>NaN</td>\n",
       "      <td>0.018198</td>\n",
       "      <td>0.034228</td>\n",
       "      <td>1.667150</td>\n",
       "      <td>0.541934</td>\n",
       "      <td>0.897769</td>\n",
       "      <td>1.167926</td>\n",
       "      <td>107.573306</td>\n",
       "      <td>3.314542e+04</td>\n",
       "      <td>107.019008</td>\n",
       "      <td>115.617927</td>\n",
       "      <td>1.232800e+07</td>\n",
       "      <td>1.232800e+07</td>\n",
       "      <td>107.091000</td>\n",
       "      <td>1.232800e+07</td>\n",
       "      <td>NaN</td>\n",
       "      <td>10.783952</td>\n",
       "      <td>22.929214</td>\n",
       "      <td>35.695144</td>\n",
       "      <td>135.627545</td>\n",
       "      <td>55.594056</td>\n",
       "      <td>11.745001</td>\n",
       "      <td>1.160089</td>\n",
       "      <td>0.403397</td>\n",
       "      <td>0.381384</td>\n",
       "      <td>0.455675</td>\n",
       "      <td>0.372354</td>\n",
       "      <td>0.361166</td>\n",
       "      <td>0.311784</td>\n",
       "      <td>0.441887</td>\n",
       "      <td>94.650167</td>\n",
       "      <td>93.227797</td>\n",
       "      <td>10.927202</td>\n",
       "      <td>0.335941</td>\n",
       "      <td>1.353293</td>\n",
       "    </tr>\n",
       "    <tr>\n",
       "      <th>min</th>\n",
       "      <td>3.109000e+03</td>\n",
       "      <td>2.024121e+13</td>\n",
       "      <td>2.626000e+03</td>\n",
       "      <td>0.000000</td>\n",
       "      <td>0.000000</td>\n",
       "      <td>NaN</td>\n",
       "      <td>48.816090</td>\n",
       "      <td>2.227420</td>\n",
       "      <td>1.000000</td>\n",
       "      <td>0.000000</td>\n",
       "      <td>0.000000</td>\n",
       "      <td>0.000000</td>\n",
       "      <td>1.000000</td>\n",
       "      <td>1.000000e+00</td>\n",
       "      <td>1.000000</td>\n",
       "      <td>1.000000</td>\n",
       "      <td>1.000000e+00</td>\n",
       "      <td>1.000000e+00</td>\n",
       "      <td>1.000000</td>\n",
       "      <td>1.000000e+00</td>\n",
       "      <td>NaN</td>\n",
       "      <td>0.000000</td>\n",
       "      <td>0.000000</td>\n",
       "      <td>0.000000</td>\n",
       "      <td>0.000000</td>\n",
       "      <td>0.000000</td>\n",
       "      <td>0.000000</td>\n",
       "      <td>0.000000</td>\n",
       "      <td>0.000000</td>\n",
       "      <td>0.000000</td>\n",
       "      <td>0.000000</td>\n",
       "      <td>0.000000</td>\n",
       "      <td>0.000000</td>\n",
       "      <td>0.000000</td>\n",
       "      <td>0.000000</td>\n",
       "      <td>1.000000</td>\n",
       "      <td>0.000000</td>\n",
       "      <td>0.000000</td>\n",
       "      <td>0.000000</td>\n",
       "      <td>0.010000</td>\n",
       "    </tr>\n",
       "    <tr>\n",
       "      <th>25%</th>\n",
       "      <td>3.233102e+07</td>\n",
       "      <td>2.024121e+13</td>\n",
       "      <td>1.956359e+07</td>\n",
       "      <td>1.000000</td>\n",
       "      <td>1.000000</td>\n",
       "      <td>NaN</td>\n",
       "      <td>48.850740</td>\n",
       "      <td>2.321011</td>\n",
       "      <td>2.000000</td>\n",
       "      <td>1.000000</td>\n",
       "      <td>1.000000</td>\n",
       "      <td>1.000000</td>\n",
       "      <td>2.000000</td>\n",
       "      <td>4.500000e+01</td>\n",
       "      <td>1.000000</td>\n",
       "      <td>2.000000</td>\n",
       "      <td>4.000000e+01</td>\n",
       "      <td>6.000000e+01</td>\n",
       "      <td>2.000000</td>\n",
       "      <td>6.000000e+01</td>\n",
       "      <td>NaN</td>\n",
       "      <td>0.000000</td>\n",
       "      <td>0.000000</td>\n",
       "      <td>0.000000</td>\n",
       "      <td>0.000000</td>\n",
       "      <td>0.000000</td>\n",
       "      <td>0.000000</td>\n",
       "      <td>0.000000</td>\n",
       "      <td>4.620000</td>\n",
       "      <td>4.700000</td>\n",
       "      <td>4.500000</td>\n",
       "      <td>4.770000</td>\n",
       "      <td>4.800000</td>\n",
       "      <td>4.760000</td>\n",
       "      <td>4.500000</td>\n",
       "      <td>1.000000</td>\n",
       "      <td>1.000000</td>\n",
       "      <td>0.000000</td>\n",
       "      <td>0.000000</td>\n",
       "      <td>0.210000</td>\n",
       "    </tr>\n",
       "    <tr>\n",
       "      <th>50%</th>\n",
       "      <td>8.113895e+17</td>\n",
       "      <td>2.024121e+13</td>\n",
       "      <td>7.262684e+07</td>\n",
       "      <td>1.000000</td>\n",
       "      <td>2.000000</td>\n",
       "      <td>NaN</td>\n",
       "      <td>48.865470</td>\n",
       "      <td>2.346829</td>\n",
       "      <td>3.000000</td>\n",
       "      <td>1.000000</td>\n",
       "      <td>1.000000</td>\n",
       "      <td>1.000000</td>\n",
       "      <td>3.000000</td>\n",
       "      <td>3.650000e+02</td>\n",
       "      <td>3.000000</td>\n",
       "      <td>3.000000</td>\n",
       "      <td>3.650000e+02</td>\n",
       "      <td>3.650000e+02</td>\n",
       "      <td>3.000000</td>\n",
       "      <td>3.650000e+02</td>\n",
       "      <td>NaN</td>\n",
       "      <td>5.000000</td>\n",
       "      <td>12.000000</td>\n",
       "      <td>21.000000</td>\n",
       "      <td>88.000000</td>\n",
       "      <td>5.000000</td>\n",
       "      <td>1.000000</td>\n",
       "      <td>0.000000</td>\n",
       "      <td>4.830000</td>\n",
       "      <td>4.880000</td>\n",
       "      <td>4.790000</td>\n",
       "      <td>4.920000</td>\n",
       "      <td>4.950000</td>\n",
       "      <td>4.920000</td>\n",
       "      <td>4.720000</td>\n",
       "      <td>1.000000</td>\n",
       "      <td>1.000000</td>\n",
       "      <td>0.000000</td>\n",
       "      <td>0.000000</td>\n",
       "      <td>0.590000</td>\n",
       "    </tr>\n",
       "    <tr>\n",
       "      <th>75%</th>\n",
       "      <td>1.092549e+18</td>\n",
       "      <td>2.024121e+13</td>\n",
       "      <td>3.394154e+08</td>\n",
       "      <td>3.000000</td>\n",
       "      <td>5.000000</td>\n",
       "      <td>NaN</td>\n",
       "      <td>48.879055</td>\n",
       "      <td>2.368320</td>\n",
       "      <td>4.000000</td>\n",
       "      <td>1.000000</td>\n",
       "      <td>2.000000</td>\n",
       "      <td>2.000000</td>\n",
       "      <td>5.000000</td>\n",
       "      <td>1.125000e+03</td>\n",
       "      <td>5.000000</td>\n",
       "      <td>6.000000</td>\n",
       "      <td>1.125000e+03</td>\n",
       "      <td>1.125000e+03</td>\n",
       "      <td>6.000000</td>\n",
       "      <td>1.125000e+03</td>\n",
       "      <td>NaN</td>\n",
       "      <td>18.000000</td>\n",
       "      <td>44.000000</td>\n",
       "      <td>72.000000</td>\n",
       "      <td>267.000000</td>\n",
       "      <td>22.000000</td>\n",
       "      <td>7.000000</td>\n",
       "      <td>0.000000</td>\n",
       "      <td>5.000000</td>\n",
       "      <td>5.000000</td>\n",
       "      <td>5.000000</td>\n",
       "      <td>5.000000</td>\n",
       "      <td>5.000000</td>\n",
       "      <td>5.000000</td>\n",
       "      <td>4.900000</td>\n",
       "      <td>2.000000</td>\n",
       "      <td>2.000000</td>\n",
       "      <td>0.000000</td>\n",
       "      <td>0.000000</td>\n",
       "      <td>1.420000</td>\n",
       "    </tr>\n",
       "    <tr>\n",
       "      <th>max</th>\n",
       "      <td>1.305100e+18</td>\n",
       "      <td>2.024121e+13</td>\n",
       "      <td>6.654112e+08</td>\n",
       "      <td>7663.000000</td>\n",
       "      <td>8018.000000</td>\n",
       "      <td>NaN</td>\n",
       "      <td>48.901510</td>\n",
       "      <td>2.467120</td>\n",
       "      <td>16.000000</td>\n",
       "      <td>42.000000</td>\n",
       "      <td>41.000000</td>\n",
       "      <td>17.000000</td>\n",
       "      <td>1000.000000</td>\n",
       "      <td>1.000000e+07</td>\n",
       "      <td>1000.000000</td>\n",
       "      <td>1000.000000</td>\n",
       "      <td>2.147484e+09</td>\n",
       "      <td>2.147484e+09</td>\n",
       "      <td>1000.000000</td>\n",
       "      <td>2.147484e+09</td>\n",
       "      <td>NaN</td>\n",
       "      <td>30.000000</td>\n",
       "      <td>60.000000</td>\n",
       "      <td>90.000000</td>\n",
       "      <td>365.000000</td>\n",
       "      <td>3436.000000</td>\n",
       "      <td>780.000000</td>\n",
       "      <td>61.000000</td>\n",
       "      <td>5.000000</td>\n",
       "      <td>5.000000</td>\n",
       "      <td>5.000000</td>\n",
       "      <td>5.000000</td>\n",
       "      <td>5.000000</td>\n",
       "      <td>5.000000</td>\n",
       "      <td>5.000000</td>\n",
       "      <td>826.000000</td>\n",
       "      <td>826.000000</td>\n",
       "      <td>181.000000</td>\n",
       "      <td>11.000000</td>\n",
       "      <td>49.380000</td>\n",
       "    </tr>\n",
       "  </tbody>\n",
       "</table>\n",
       "</div>"
      ],
      "text/plain": [
       "                 id     scrape_id       host_id  host_listings_count  \\\n",
       "count  9.103100e+04  9.103100e+04  9.103100e+04         91022.000000   \n",
       "mean   6.081553e+17  2.024121e+13  1.818846e+08            30.396596   \n",
       "std    5.127971e+17  0.000000e+00  2.006094e+08           127.009105   \n",
       "min    3.109000e+03  2.024121e+13  2.626000e+03             0.000000   \n",
       "25%    3.233102e+07  2.024121e+13  1.956359e+07             1.000000   \n",
       "50%    8.113895e+17  2.024121e+13  7.262684e+07             1.000000   \n",
       "75%    1.092549e+18  2.024121e+13  3.394154e+08             3.000000   \n",
       "max    1.305100e+18  2.024121e+13  6.654112e+08          7663.000000   \n",
       "\n",
       "       host_total_listings_count  neighbourhood_group_cleansed      latitude  \\\n",
       "count               91022.000000                           0.0  91031.000000   \n",
       "mean                   38.665465                           NaN     48.864181   \n",
       "std                   159.747472                           NaN      0.018198   \n",
       "min                     0.000000                           NaN     48.816090   \n",
       "25%                     1.000000                           NaN     48.850740   \n",
       "50%                     2.000000                           NaN     48.865470   \n",
       "75%                     5.000000                           NaN     48.879055   \n",
       "max                  8018.000000                           NaN     48.901510   \n",
       "\n",
       "          longitude  accommodates     bathrooms      bedrooms          beds  \\\n",
       "count  91031.000000  91031.000000  60114.000000  83700.000000  59944.000000   \n",
       "mean       2.343099      3.229274      1.199737      1.337634      1.785984   \n",
       "std        0.034228      1.667150      0.541934      0.897769      1.167926   \n",
       "min        2.227420      1.000000      0.000000      0.000000      0.000000   \n",
       "25%        2.321011      2.000000      1.000000      1.000000      1.000000   \n",
       "50%        2.346829      3.000000      1.000000      1.000000      1.000000   \n",
       "75%        2.368320      4.000000      1.000000      2.000000      2.000000   \n",
       "max        2.467120     16.000000     42.000000     41.000000     17.000000   \n",
       "\n",
       "       minimum_nights  maximum_nights  minimum_minimum_nights  \\\n",
       "count    91031.000000    9.103100e+04            91031.000000   \n",
       "mean        41.515945    5.978474e+02               40.629401   \n",
       "std        107.573306    3.314542e+04              107.019008   \n",
       "min          1.000000    1.000000e+00                1.000000   \n",
       "25%          2.000000    4.500000e+01                1.000000   \n",
       "50%          3.000000    3.650000e+02                3.000000   \n",
       "75%          5.000000    1.125000e+03                5.000000   \n",
       "max       1000.000000    1.000000e+07             1000.000000   \n",
       "\n",
       "       maximum_minimum_nights  minimum_maximum_nights  maximum_maximum_nights  \\\n",
       "count            91031.000000            9.103100e+04            9.103100e+04   \n",
       "mean                48.117345            7.139857e+04            7.143443e+04   \n",
       "std                115.617927            1.232800e+07            1.232800e+07   \n",
       "min                  1.000000            1.000000e+00            1.000000e+00   \n",
       "25%                  2.000000            4.000000e+01            6.000000e+01   \n",
       "50%                  3.000000            3.650000e+02            3.650000e+02   \n",
       "75%                  6.000000            1.125000e+03            1.125000e+03   \n",
       "max               1000.000000            2.147484e+09            2.147484e+09   \n",
       "\n",
       "       minimum_nights_avg_ntm  maximum_nights_avg_ntm  calendar_updated  \\\n",
       "count            91031.000000            9.103100e+04               0.0   \n",
       "mean                41.610112            7.141342e+04               NaN   \n",
       "std                107.091000            1.232800e+07               NaN   \n",
       "min                  1.000000            1.000000e+00               NaN   \n",
       "25%                  2.000000            6.000000e+01               NaN   \n",
       "50%                  3.000000            3.650000e+02               NaN   \n",
       "75%                  6.000000            1.125000e+03               NaN   \n",
       "max               1000.000000            2.147484e+09               NaN   \n",
       "\n",
       "       availability_30  availability_60  availability_90  availability_365  \\\n",
       "count     91031.000000     91031.000000     91031.000000      91031.000000   \n",
       "mean          9.387538        21.670046        35.048335        133.604014   \n",
       "std          10.783952        22.929214        35.695144        135.627545   \n",
       "min           0.000000         0.000000         0.000000          0.000000   \n",
       "25%           0.000000         0.000000         0.000000          0.000000   \n",
       "50%           5.000000        12.000000        21.000000         88.000000   \n",
       "75%          18.000000        44.000000        72.000000        267.000000   \n",
       "max          30.000000        60.000000        90.000000        365.000000   \n",
       "\n",
       "       number_of_reviews  number_of_reviews_ltm  number_of_reviews_l30d  \\\n",
       "count       91031.000000           91031.000000            91031.000000   \n",
       "mean           22.662719               5.910613                0.422340   \n",
       "std            55.594056              11.745001                1.160089   \n",
       "min             0.000000               0.000000                0.000000   \n",
       "25%             0.000000               0.000000                0.000000   \n",
       "50%             5.000000               1.000000                0.000000   \n",
       "75%            22.000000               7.000000                0.000000   \n",
       "max          3436.000000             780.000000               61.000000   \n",
       "\n",
       "       review_scores_rating  review_scores_accuracy  \\\n",
       "count          67176.000000            67164.000000   \n",
       "mean               4.722760                4.770729   \n",
       "std                0.403397                0.381384   \n",
       "min                0.000000                0.000000   \n",
       "25%                4.620000                4.700000   \n",
       "50%                4.830000                4.880000   \n",
       "75%                5.000000                5.000000   \n",
       "max                5.000000                5.000000   \n",
       "\n",
       "       review_scores_cleanliness  review_scores_checkin  \\\n",
       "count               67167.000000           67157.000000   \n",
       "mean                    4.656672               4.805165   \n",
       "std                     0.455675               0.372354   \n",
       "min                     0.000000               0.000000   \n",
       "25%                     4.500000               4.770000   \n",
       "50%                     4.790000               4.920000   \n",
       "75%                     5.000000               5.000000   \n",
       "max                     5.000000               5.000000   \n",
       "\n",
       "       review_scores_communication  review_scores_location  \\\n",
       "count                 67166.000000            67158.000000   \n",
       "mean                      4.827823                4.818905   \n",
       "std                       0.361166                0.311784   \n",
       "min                       0.000000                0.000000   \n",
       "25%                       4.800000                4.760000   \n",
       "50%                       4.950000                4.920000   \n",
       "75%                       5.000000                5.000000   \n",
       "max                       5.000000                5.000000   \n",
       "\n",
       "       review_scores_value  calculated_host_listings_count  \\\n",
       "count         67156.000000                    91031.000000   \n",
       "mean              4.624605                       23.583010   \n",
       "std               0.441887                       94.650167   \n",
       "min               0.000000                        1.000000   \n",
       "25%               4.500000                        1.000000   \n",
       "50%               4.720000                        1.000000   \n",
       "75%               4.900000                        2.000000   \n",
       "max               5.000000                      826.000000   \n",
       "\n",
       "       calculated_host_listings_count_entire_homes  \\\n",
       "count                                 91031.000000   \n",
       "mean                                     22.522558   \n",
       "std                                      93.227797   \n",
       "min                                       0.000000   \n",
       "25%                                       1.000000   \n",
       "50%                                       1.000000   \n",
       "75%                                       2.000000   \n",
       "max                                     826.000000   \n",
       "\n",
       "       calculated_host_listings_count_private_rooms  \\\n",
       "count                                  91031.000000   \n",
       "mean                                       0.981808   \n",
       "std                                       10.927202   \n",
       "min                                        0.000000   \n",
       "25%                                        0.000000   \n",
       "50%                                        0.000000   \n",
       "75%                                        0.000000   \n",
       "max                                      181.000000   \n",
       "\n",
       "       calculated_host_listings_count_shared_rooms  reviews_per_month  \n",
       "count                                 91031.000000       67176.000000  \n",
       "mean                                      0.019235           1.065495  \n",
       "std                                       0.335941           1.353293  \n",
       "min                                       0.000000           0.010000  \n",
       "25%                                       0.000000           0.210000  \n",
       "50%                                       0.000000           0.590000  \n",
       "75%                                       0.000000           1.420000  \n",
       "max                                      11.000000          49.380000  "
      ]
     },
     "execution_count": 194,
     "metadata": {},
     "output_type": "execute_result"
    }
   ],
   "source": [
    "df.describe()  # Statistiques numériques"
   ]
  },
  {
   "cell_type": "code",
   "execution_count": 195,
   "id": "6d8a9fbe",
   "metadata": {},
   "outputs": [
    {
     "data": {
      "text/plain": [
       "Index(['id', 'listing_url', 'scrape_id', 'last_scraped', 'source', 'name',\n",
       "       'description', 'neighborhood_overview', 'picture_url', 'host_id',\n",
       "       'host_url', 'host_name', 'host_since', 'host_location', 'host_about',\n",
       "       'host_response_time', 'host_response_rate', 'host_acceptance_rate',\n",
       "       'host_is_superhost', 'host_thumbnail_url', 'host_picture_url',\n",
       "       'host_neighbourhood', 'host_listings_count',\n",
       "       'host_total_listings_count', 'host_verifications',\n",
       "       'host_has_profile_pic', 'host_identity_verified', 'neighbourhood',\n",
       "       'neighbourhood_cleansed', 'neighbourhood_group_cleansed', 'latitude',\n",
       "       'longitude', 'property_type', 'room_type', 'accommodates', 'bathrooms',\n",
       "       'bathrooms_text', 'bedrooms', 'beds', 'amenities', 'price',\n",
       "       'minimum_nights', 'maximum_nights', 'minimum_minimum_nights',\n",
       "       'maximum_minimum_nights', 'minimum_maximum_nights',\n",
       "       'maximum_maximum_nights', 'minimum_nights_avg_ntm',\n",
       "       'maximum_nights_avg_ntm', 'calendar_updated', 'has_availability',\n",
       "       'availability_30', 'availability_60', 'availability_90',\n",
       "       'availability_365', 'calendar_last_scraped', 'number_of_reviews',\n",
       "       'number_of_reviews_ltm', 'number_of_reviews_l30d', 'first_review',\n",
       "       'last_review', 'review_scores_rating', 'review_scores_accuracy',\n",
       "       'review_scores_cleanliness', 'review_scores_checkin',\n",
       "       'review_scores_communication', 'review_scores_location',\n",
       "       'review_scores_value', 'license', 'instant_bookable',\n",
       "       'calculated_host_listings_count',\n",
       "       'calculated_host_listings_count_entire_homes',\n",
       "       'calculated_host_listings_count_private_rooms',\n",
       "       'calculated_host_listings_count_shared_rooms', 'reviews_per_month'],\n",
       "      dtype='object')"
      ]
     },
     "execution_count": 195,
     "metadata": {},
     "output_type": "execute_result"
    }
   ],
   "source": [
    "df.columns  # Liste des colonnes"
   ]
  },
  {
   "cell_type": "markdown",
   "id": "b910e51d",
   "metadata": {},
   "source": [
    "##  Étape 2 : Nettoyage des données"
   ]
  },
  {
   "cell_type": "code",
   "execution_count": 196,
   "id": "a52f4c46",
   "metadata": {},
   "outputs": [
    {
     "data": {
      "text/plain": [
       "id                                                  0\n",
       "listing_url                                         0\n",
       "scrape_id                                           0\n",
       "last_scraped                                        0\n",
       "source                                              0\n",
       "name                                                0\n",
       "description                                      3491\n",
       "neighborhood_overview                           45135\n",
       "picture_url                                         1\n",
       "host_id                                             0\n",
       "host_url                                            0\n",
       "host_name                                           9\n",
       "host_since                                          9\n",
       "host_location                                   18263\n",
       "host_about                                      51453\n",
       "host_response_time                              38821\n",
       "host_response_rate                              38821\n",
       "host_acceptance_rate                            29938\n",
       "host_is_superhost                                1951\n",
       "host_thumbnail_url                                  9\n",
       "host_picture_url                                    9\n",
       "host_neighbourhood                              58862\n",
       "host_listings_count                                 9\n",
       "host_total_listings_count                           9\n",
       "host_verifications                                  9\n",
       "host_has_profile_pic                                9\n",
       "host_identity_verified                              9\n",
       "neighbourhood                                   45135\n",
       "neighbourhood_cleansed                              0\n",
       "neighbourhood_group_cleansed                    91031\n",
       "latitude                                            0\n",
       "longitude                                           0\n",
       "property_type                                       0\n",
       "room_type                                           0\n",
       "accommodates                                        0\n",
       "bathrooms                                       30917\n",
       "bathrooms_text                                     86\n",
       "bedrooms                                         7331\n",
       "beds                                            31087\n",
       "amenities                                           0\n",
       "price                                           30938\n",
       "minimum_nights                                      0\n",
       "maximum_nights                                      0\n",
       "minimum_minimum_nights                              0\n",
       "maximum_minimum_nights                              0\n",
       "minimum_maximum_nights                              0\n",
       "maximum_maximum_nights                              0\n",
       "minimum_nights_avg_ntm                              0\n",
       "maximum_nights_avg_ntm                              0\n",
       "calendar_updated                                91031\n",
       "has_availability                                 4500\n",
       "availability_30                                     0\n",
       "availability_60                                     0\n",
       "availability_90                                     0\n",
       "availability_365                                    0\n",
       "calendar_last_scraped                               0\n",
       "number_of_reviews                                   0\n",
       "number_of_reviews_ltm                               0\n",
       "number_of_reviews_l30d                              0\n",
       "first_review                                    23855\n",
       "last_review                                     23855\n",
       "review_scores_rating                            23855\n",
       "review_scores_accuracy                          23867\n",
       "review_scores_cleanliness                       23864\n",
       "review_scores_checkin                           23874\n",
       "review_scores_communication                     23865\n",
       "review_scores_location                          23873\n",
       "review_scores_value                             23875\n",
       "license                                         18786\n",
       "instant_bookable                                    0\n",
       "calculated_host_listings_count                      0\n",
       "calculated_host_listings_count_entire_homes         0\n",
       "calculated_host_listings_count_private_rooms        0\n",
       "calculated_host_listings_count_shared_rooms         0\n",
       "reviews_per_month                               23855\n",
       "dtype: int64"
      ]
     },
     "execution_count": 196,
     "metadata": {},
     "output_type": "execute_result"
    }
   ],
   "source": [
    "df.isna().sum()  # Compte les valeurs manquantes par colonne"
   ]
  },
  {
   "cell_type": "code",
   "execution_count": 197,
   "id": "33e08df0",
   "metadata": {},
   "outputs": [
    {
     "data": {
      "text/plain": [
       "neighbourhood_group_cleansed                    91031\n",
       "calendar_updated                                91031\n",
       "host_neighbourhood                              58862\n",
       "host_about                                      51453\n",
       "neighborhood_overview                           45135\n",
       "neighbourhood                                   45135\n",
       "host_response_rate                              38821\n",
       "host_response_time                              38821\n",
       "beds                                            31087\n",
       "price                                           30938\n",
       "bathrooms                                       30917\n",
       "host_acceptance_rate                            29938\n",
       "review_scores_value                             23875\n",
       "review_scores_checkin                           23874\n",
       "review_scores_location                          23873\n",
       "review_scores_accuracy                          23867\n",
       "review_scores_communication                     23865\n",
       "review_scores_cleanliness                       23864\n",
       "first_review                                    23855\n",
       "reviews_per_month                               23855\n",
       "review_scores_rating                            23855\n",
       "last_review                                     23855\n",
       "license                                         18786\n",
       "host_location                                   18263\n",
       "bedrooms                                         7331\n",
       "has_availability                                 4500\n",
       "description                                      3491\n",
       "host_is_superhost                                1951\n",
       "bathrooms_text                                     86\n",
       "host_total_listings_count                           9\n",
       "host_listings_count                                 9\n",
       "host_identity_verified                              9\n",
       "host_has_profile_pic                                9\n",
       "host_since                                          9\n",
       "host_name                                           9\n",
       "host_picture_url                                    9\n",
       "host_thumbnail_url                                  9\n",
       "host_verifications                                  9\n",
       "picture_url                                         1\n",
       "last_scraped                                        0\n",
       "id                                                  0\n",
       "listing_url                                         0\n",
       "scrape_id                                           0\n",
       "host_url                                            0\n",
       "host_id                                             0\n",
       "source                                              0\n",
       "name                                                0\n",
       "maximum_nights                                      0\n",
       "property_type                                       0\n",
       "room_type                                           0\n",
       "accommodates                                        0\n",
       "neighbourhood_cleansed                              0\n",
       "minimum_nights                                      0\n",
       "amenities                                           0\n",
       "latitude                                            0\n",
       "longitude                                           0\n",
       "maximum_maximum_nights                              0\n",
       "minimum_minimum_nights                              0\n",
       "maximum_minimum_nights                              0\n",
       "number_of_reviews_l30d                              0\n",
       "number_of_reviews_ltm                               0\n",
       "number_of_reviews                                   0\n",
       "calendar_last_scraped                               0\n",
       "availability_365                                    0\n",
       "availability_90                                     0\n",
       "availability_60                                     0\n",
       "availability_30                                     0\n",
       "minimum_nights_avg_ntm                              0\n",
       "maximum_nights_avg_ntm                              0\n",
       "minimum_maximum_nights                              0\n",
       "instant_bookable                                    0\n",
       "calculated_host_listings_count                      0\n",
       "calculated_host_listings_count_entire_homes         0\n",
       "calculated_host_listings_count_private_rooms        0\n",
       "calculated_host_listings_count_shared_rooms         0\n",
       "dtype: int64"
      ]
     },
     "execution_count": 197,
     "metadata": {},
     "output_type": "execute_result"
    }
   ],
   "source": [
    "# Détection des valeurs manquantes\n",
    "df.isna().sum().sort_values(ascending=False)"
   ]
  },
  {
   "cell_type": "code",
   "execution_count": 198,
   "id": "218b2600",
   "metadata": {},
   "outputs": [
    {
     "data": {
      "text/plain": [
       "91031"
      ]
     },
     "execution_count": 198,
     "metadata": {},
     "output_type": "execute_result"
    }
   ],
   "source": [
    "df.shape[0]"
   ]
  },
  {
   "cell_type": "code",
   "execution_count": 199,
   "id": "9ec080ca",
   "metadata": {},
   "outputs": [
    {
     "data": {
      "text/plain": [
       "neighbourhood_group_cleansed                    1.000000\n",
       "calendar_updated                                1.000000\n",
       "host_neighbourhood                              0.646615\n",
       "host_about                                      0.565225\n",
       "neighborhood_overview                           0.495820\n",
       "neighbourhood                                   0.495820\n",
       "host_response_rate                              0.426459\n",
       "host_response_time                              0.426459\n",
       "beds                                            0.341499\n",
       "price                                           0.339862\n",
       "bathrooms                                       0.339632\n",
       "host_acceptance_rate                            0.328877\n",
       "review_scores_value                             0.262273\n",
       "review_scores_checkin                           0.262262\n",
       "review_scores_location                          0.262251\n",
       "review_scores_accuracy                          0.262185\n",
       "review_scores_communication                     0.262163\n",
       "review_scores_cleanliness                       0.262152\n",
       "first_review                                    0.262054\n",
       "reviews_per_month                               0.262054\n",
       "review_scores_rating                            0.262054\n",
       "last_review                                     0.262054\n",
       "license                                         0.206369\n",
       "host_location                                   0.200624\n",
       "bedrooms                                        0.080533\n",
       "has_availability                                0.049434\n",
       "description                                     0.038350\n",
       "host_is_superhost                               0.021432\n",
       "bathrooms_text                                  0.000945\n",
       "host_total_listings_count                       0.000099\n",
       "host_listings_count                             0.000099\n",
       "host_identity_verified                          0.000099\n",
       "host_has_profile_pic                            0.000099\n",
       "host_since                                      0.000099\n",
       "host_name                                       0.000099\n",
       "host_picture_url                                0.000099\n",
       "host_thumbnail_url                              0.000099\n",
       "host_verifications                              0.000099\n",
       "picture_url                                     0.000011\n",
       "last_scraped                                    0.000000\n",
       "id                                              0.000000\n",
       "listing_url                                     0.000000\n",
       "scrape_id                                       0.000000\n",
       "host_url                                        0.000000\n",
       "host_id                                         0.000000\n",
       "source                                          0.000000\n",
       "name                                            0.000000\n",
       "maximum_nights                                  0.000000\n",
       "property_type                                   0.000000\n",
       "room_type                                       0.000000\n",
       "accommodates                                    0.000000\n",
       "neighbourhood_cleansed                          0.000000\n",
       "minimum_nights                                  0.000000\n",
       "amenities                                       0.000000\n",
       "latitude                                        0.000000\n",
       "longitude                                       0.000000\n",
       "maximum_maximum_nights                          0.000000\n",
       "minimum_minimum_nights                          0.000000\n",
       "maximum_minimum_nights                          0.000000\n",
       "number_of_reviews_l30d                          0.000000\n",
       "number_of_reviews_ltm                           0.000000\n",
       "number_of_reviews                               0.000000\n",
       "calendar_last_scraped                           0.000000\n",
       "availability_365                                0.000000\n",
       "availability_90                                 0.000000\n",
       "availability_60                                 0.000000\n",
       "availability_30                                 0.000000\n",
       "minimum_nights_avg_ntm                          0.000000\n",
       "maximum_nights_avg_ntm                          0.000000\n",
       "minimum_maximum_nights                          0.000000\n",
       "instant_bookable                                0.000000\n",
       "calculated_host_listings_count                  0.000000\n",
       "calculated_host_listings_count_entire_homes     0.000000\n",
       "calculated_host_listings_count_private_rooms    0.000000\n",
       "calculated_host_listings_count_shared_rooms     0.000000\n",
       "dtype: float64"
      ]
     },
     "execution_count": 199,
     "metadata": {},
     "output_type": "execute_result"
    }
   ],
   "source": [
    "df.isna().sum().sort_values(ascending=False)/ df.shape[0]"
   ]
  },
  {
   "cell_type": "code",
   "execution_count": 200,
   "id": "bb25b38a",
   "metadata": {},
   "outputs": [],
   "source": [
    "pd.set_option('display.max_rows', 100)"
   ]
  },
  {
   "cell_type": "code",
   "execution_count": 201,
   "id": "c4fa935d",
   "metadata": {},
   "outputs": [
    {
     "data": {
      "text/plain": [
       "neighbourhood_group_cleansed                    1.000000\n",
       "calendar_updated                                1.000000\n",
       "host_neighbourhood                              0.646615\n",
       "host_about                                      0.565225\n",
       "neighborhood_overview                           0.495820\n",
       "neighbourhood                                   0.495820\n",
       "host_response_rate                              0.426459\n",
       "host_response_time                              0.426459\n",
       "beds                                            0.341499\n",
       "price                                           0.339862\n",
       "bathrooms                                       0.339632\n",
       "host_acceptance_rate                            0.328877\n",
       "review_scores_value                             0.262273\n",
       "review_scores_checkin                           0.262262\n",
       "review_scores_location                          0.262251\n",
       "review_scores_accuracy                          0.262185\n",
       "review_scores_communication                     0.262163\n",
       "review_scores_cleanliness                       0.262152\n",
       "first_review                                    0.262054\n",
       "reviews_per_month                               0.262054\n",
       "review_scores_rating                            0.262054\n",
       "last_review                                     0.262054\n",
       "license                                         0.206369\n",
       "host_location                                   0.200624\n",
       "bedrooms                                        0.080533\n",
       "has_availability                                0.049434\n",
       "description                                     0.038350\n",
       "host_is_superhost                               0.021432\n",
       "bathrooms_text                                  0.000945\n",
       "host_total_listings_count                       0.000099\n",
       "host_listings_count                             0.000099\n",
       "host_identity_verified                          0.000099\n",
       "host_has_profile_pic                            0.000099\n",
       "host_since                                      0.000099\n",
       "host_name                                       0.000099\n",
       "host_picture_url                                0.000099\n",
       "host_thumbnail_url                              0.000099\n",
       "host_verifications                              0.000099\n",
       "picture_url                                     0.000011\n",
       "last_scraped                                    0.000000\n",
       "id                                              0.000000\n",
       "listing_url                                     0.000000\n",
       "scrape_id                                       0.000000\n",
       "host_url                                        0.000000\n",
       "host_id                                         0.000000\n",
       "source                                          0.000000\n",
       "name                                            0.000000\n",
       "maximum_nights                                  0.000000\n",
       "property_type                                   0.000000\n",
       "room_type                                       0.000000\n",
       "accommodates                                    0.000000\n",
       "neighbourhood_cleansed                          0.000000\n",
       "minimum_nights                                  0.000000\n",
       "amenities                                       0.000000\n",
       "latitude                                        0.000000\n",
       "longitude                                       0.000000\n",
       "maximum_maximum_nights                          0.000000\n",
       "minimum_minimum_nights                          0.000000\n",
       "maximum_minimum_nights                          0.000000\n",
       "number_of_reviews_l30d                          0.000000\n",
       "number_of_reviews_ltm                           0.000000\n",
       "number_of_reviews                               0.000000\n",
       "calendar_last_scraped                           0.000000\n",
       "availability_365                                0.000000\n",
       "availability_90                                 0.000000\n",
       "availability_60                                 0.000000\n",
       "availability_30                                 0.000000\n",
       "minimum_nights_avg_ntm                          0.000000\n",
       "maximum_nights_avg_ntm                          0.000000\n",
       "minimum_maximum_nights                          0.000000\n",
       "instant_bookable                                0.000000\n",
       "calculated_host_listings_count                  0.000000\n",
       "calculated_host_listings_count_entire_homes     0.000000\n",
       "calculated_host_listings_count_private_rooms    0.000000\n",
       "calculated_host_listings_count_shared_rooms     0.000000\n",
       "dtype: float64"
      ]
     },
     "execution_count": 201,
     "metadata": {},
     "output_type": "execute_result"
    }
   ],
   "source": [
    "df.isna().sum().sort_values(ascending=False)/ df.shape[0]"
   ]
  },
  {
   "cell_type": "code",
   "execution_count": 202,
   "id": "b4bf0f28",
   "metadata": {},
   "outputs": [
    {
     "data": {
      "text/plain": [
       "Index(['picture_url', 'host_id', 'host_url', 'host_name', 'host_since',\n",
       "       'host_location', 'host_about', 'host_response_time',\n",
       "       'host_response_rate', 'host_acceptance_rate', 'host_is_superhost',\n",
       "       'host_thumbnail_url', 'host_picture_url', 'host_neighbourhood',\n",
       "       'host_listings_count', 'host_total_listings_count',\n",
       "       'host_verifications', 'host_has_profile_pic', 'host_identity_verified',\n",
       "       'neighbourhood', 'neighbourhood_cleansed',\n",
       "       'neighbourhood_group_cleansed', 'latitude', 'longitude',\n",
       "       'property_type', 'room_type', 'accommodates', 'bathrooms',\n",
       "       'bathrooms_text', 'bedrooms', 'beds', 'amenities', 'price',\n",
       "       'minimum_nights', 'maximum_nights', 'minimum_minimum_nights',\n",
       "       'maximum_minimum_nights', 'minimum_maximum_nights',\n",
       "       'maximum_maximum_nights', 'minimum_nights_avg_ntm',\n",
       "       'maximum_nights_avg_ntm', 'calendar_updated', 'has_availability',\n",
       "       'availability_30', 'availability_60', 'availability_90',\n",
       "       'availability_365', 'calendar_last_scraped', 'number_of_reviews',\n",
       "       'number_of_reviews_ltm', 'number_of_reviews_l30d', 'first_review',\n",
       "       'last_review', 'review_scores_rating', 'review_scores_accuracy',\n",
       "       'review_scores_cleanliness', 'review_scores_checkin',\n",
       "       'review_scores_communication', 'review_scores_location',\n",
       "       'review_scores_value', 'license', 'instant_bookable',\n",
       "       'calculated_host_listings_count',\n",
       "       'calculated_host_listings_count_entire_homes',\n",
       "       'calculated_host_listings_count_private_rooms',\n",
       "       'calculated_host_listings_count_shared_rooms', 'reviews_per_month'],\n",
       "      dtype='object')"
      ]
     },
     "execution_count": 202,
     "metadata": {},
     "output_type": "execute_result"
    }
   ],
   "source": [
    "df.columns[df.isna().sum().sort_values(ascending=False)/ df.shape[0] < 0.4]"
   ]
  },
  {
   "cell_type": "code",
   "execution_count": 203,
   "id": "f7f6ca91",
   "metadata": {},
   "outputs": [],
   "source": [
    "df = df[df.columns[df.isna().sum().sort_values(ascending=False)/ df.shape[0] < 0.4]]"
   ]
  },
  {
   "cell_type": "code",
   "execution_count": 204,
   "id": "58aea8b3",
   "metadata": {},
   "outputs": [
    {
     "data": {
      "text/plain": [
       "(91031, 67)"
      ]
     },
     "execution_count": 204,
     "metadata": {},
     "output_type": "execute_result"
    }
   ],
   "source": [
    "df.shape"
   ]
  },
  {
   "cell_type": "code",
   "execution_count": 205,
   "id": "55f3d2ff",
   "metadata": {},
   "outputs": [
    {
     "data": {
      "text/plain": [
       "array([ True, False,  True, False, False, False, False, False, False,\n",
       "       False, False,  True,  True, False, False, False, False, False,\n",
       "       False, False, False, False, False, False, False, False, False,\n",
       "       False, False, False, False, False, False, False, False, False,\n",
       "       False, False, False, False, False, False, False, False, False,\n",
       "       False, False, False, False, False, False, False, False, False,\n",
       "       False, False, False, False, False, False, False, False, False,\n",
       "       False, False, False, False])"
      ]
     },
     "execution_count": 205,
     "metadata": {},
     "output_type": "execute_result"
    }
   ],
   "source": [
    "df.columns.str.contains('url')"
   ]
  },
  {
   "cell_type": "code",
   "execution_count": 206,
   "id": "cc3339d2",
   "metadata": {},
   "outputs": [
    {
     "data": {
      "text/plain": [
       "Index(['picture_url', 'host_url', 'host_thumbnail_url', 'host_picture_url'], dtype='object')"
      ]
     },
     "execution_count": 206,
     "metadata": {},
     "output_type": "execute_result"
    }
   ],
   "source": [
    "df.columns[df.columns.str.contains('url')]"
   ]
  },
  {
   "cell_type": "markdown",
   "id": "5596c586",
   "metadata": {},
   "source": [
    "Utilisation du tilde ~ pour inverser un filtre "
   ]
  },
  {
   "cell_type": "code",
   "execution_count": 207,
   "id": "027b902b",
   "metadata": {},
   "outputs": [
    {
     "data": {
      "text/plain": [
       "Index(['host_id', 'host_name', 'host_since', 'host_location', 'host_about',\n",
       "       'host_response_time', 'host_response_rate', 'host_acceptance_rate',\n",
       "       'host_is_superhost', 'host_neighbourhood', 'host_listings_count',\n",
       "       'host_total_listings_count', 'host_verifications',\n",
       "       'host_has_profile_pic', 'host_identity_verified', 'neighbourhood',\n",
       "       'neighbourhood_cleansed', 'neighbourhood_group_cleansed', 'latitude',\n",
       "       'longitude', 'property_type', 'room_type', 'accommodates', 'bathrooms',\n",
       "       'bathrooms_text', 'bedrooms', 'beds', 'amenities', 'price',\n",
       "       'minimum_nights', 'maximum_nights', 'minimum_minimum_nights',\n",
       "       'maximum_minimum_nights', 'minimum_maximum_nights',\n",
       "       'maximum_maximum_nights', 'minimum_nights_avg_ntm',\n",
       "       'maximum_nights_avg_ntm', 'calendar_updated', 'has_availability',\n",
       "       'availability_30', 'availability_60', 'availability_90',\n",
       "       'availability_365', 'calendar_last_scraped', 'number_of_reviews',\n",
       "       'number_of_reviews_ltm', 'number_of_reviews_l30d', 'first_review',\n",
       "       'last_review', 'review_scores_rating', 'review_scores_accuracy',\n",
       "       'review_scores_cleanliness', 'review_scores_checkin',\n",
       "       'review_scores_communication', 'review_scores_location',\n",
       "       'review_scores_value', 'license', 'instant_bookable',\n",
       "       'calculated_host_listings_count',\n",
       "       'calculated_host_listings_count_entire_homes',\n",
       "       'calculated_host_listings_count_private_rooms',\n",
       "       'calculated_host_listings_count_shared_rooms', 'reviews_per_month'],\n",
       "      dtype='object')"
      ]
     },
     "execution_count": 207,
     "metadata": {},
     "output_type": "execute_result"
    }
   ],
   "source": [
    "df.columns[~ df.columns.str.contains('url')]"
   ]
  },
  {
   "cell_type": "code",
   "execution_count": 208,
   "id": "319900a4",
   "metadata": {},
   "outputs": [],
   "source": [
    "df = df[df.columns[~ df.columns.str.contains('url')]]"
   ]
  },
  {
   "cell_type": "code",
   "execution_count": 209,
   "id": "18d889bd",
   "metadata": {},
   "outputs": [
    {
     "data": {
      "text/plain": [
       "(91031, 63)"
      ]
     },
     "execution_count": 209,
     "metadata": {},
     "output_type": "execute_result"
    }
   ],
   "source": [
    "df.shape"
   ]
  },
  {
   "cell_type": "code",
   "execution_count": 210,
   "id": "94e38688",
   "metadata": {},
   "outputs": [
    {
     "data": {
      "text/plain": [
       "Index(['host_id', 'host_name', 'host_since', 'host_location', 'host_about',\n",
       "       'host_response_time', 'host_response_rate', 'host_acceptance_rate',\n",
       "       'host_is_superhost', 'host_neighbourhood', 'host_listings_count',\n",
       "       'host_total_listings_count', 'host_verifications',\n",
       "       'host_has_profile_pic', 'host_identity_verified', 'neighbourhood',\n",
       "       'neighbourhood_cleansed', 'neighbourhood_group_cleansed', 'latitude',\n",
       "       'longitude', 'property_type', 'room_type', 'accommodates', 'bathrooms',\n",
       "       'bathrooms_text', 'bedrooms', 'beds', 'amenities', 'price',\n",
       "       'minimum_nights', 'maximum_nights', 'minimum_minimum_nights',\n",
       "       'maximum_minimum_nights', 'minimum_maximum_nights',\n",
       "       'maximum_maximum_nights', 'minimum_nights_avg_ntm',\n",
       "       'maximum_nights_avg_ntm', 'calendar_updated', 'has_availability',\n",
       "       'availability_30', 'availability_60', 'availability_90',\n",
       "       'availability_365', 'calendar_last_scraped', 'number_of_reviews',\n",
       "       'number_of_reviews_ltm', 'number_of_reviews_l30d', 'first_review',\n",
       "       'last_review', 'review_scores_rating', 'review_scores_accuracy',\n",
       "       'review_scores_cleanliness', 'review_scores_checkin',\n",
       "       'review_scores_communication', 'review_scores_location',\n",
       "       'review_scores_value', 'license', 'instant_bookable',\n",
       "       'calculated_host_listings_count',\n",
       "       'calculated_host_listings_count_entire_homes',\n",
       "       'calculated_host_listings_count_private_rooms',\n",
       "       'calculated_host_listings_count_shared_rooms', 'reviews_per_month'],\n",
       "      dtype='object')"
      ]
     },
     "execution_count": 210,
     "metadata": {},
     "output_type": "execute_result"
    }
   ],
   "source": [
    "df.columns  # Noms des colonnes"
   ]
  },
  {
   "cell_type": "code",
   "execution_count": 211,
   "id": "815c6471",
   "metadata": {},
   "outputs": [
    {
     "data": {
      "text/plain": [
       "['host_id',\n",
       " 'host_name',\n",
       " 'host_since',\n",
       " 'host_location',\n",
       " 'host_about',\n",
       " 'host_response_time',\n",
       " 'host_response_rate',\n",
       " 'host_acceptance_rate',\n",
       " 'host_is_superhost',\n",
       " 'host_neighbourhood',\n",
       " 'host_listings_count',\n",
       " 'host_total_listings_count',\n",
       " 'host_verifications',\n",
       " 'host_has_profile_pic',\n",
       " 'host_identity_verified',\n",
       " 'minimum_nights',\n",
       " 'maximum_nights',\n",
       " 'minimum_minimum_nights',\n",
       " 'maximum_minimum_nights',\n",
       " 'minimum_maximum_nights',\n",
       " 'maximum_maximum_nights',\n",
       " 'minimum_nights_avg_ntm',\n",
       " 'maximum_nights_avg_ntm',\n",
       " 'has_availability',\n",
       " 'availability_30',\n",
       " 'availability_60',\n",
       " 'availability_90',\n",
       " 'availability_365',\n",
       " 'calculated_host_listings_count',\n",
       " 'calculated_host_listings_count_entire_homes',\n",
       " 'calculated_host_listings_count_private_rooms',\n",
       " 'calculated_host_listings_count_shared_rooms']"
      ]
     },
     "execution_count": 211,
     "metadata": {},
     "output_type": "execute_result"
    }
   ],
   "source": [
    "drop_col = [col for col in df.columns if any(mot in col for mot in ['host', 'maximum', 'minimum', 'availability'])]\n",
    "[col for col in df.columns if any(mot in col for mot in ['host', 'maximum', 'minimum', 'availability'])]"
   ]
  },
  {
   "cell_type": "code",
   "execution_count": 212,
   "id": "6400dffa",
   "metadata": {},
   "outputs": [],
   "source": [
    "df.drop(columns=drop_col, inplace=True)"
   ]
  },
  {
   "cell_type": "code",
   "execution_count": 213,
   "id": "b5229334",
   "metadata": {},
   "outputs": [
    {
     "data": {
      "text/plain": [
       "(91031, 31)"
      ]
     },
     "execution_count": 213,
     "metadata": {},
     "output_type": "execute_result"
    }
   ],
   "source": [
    "df.shape"
   ]
  },
  {
   "cell_type": "code",
   "execution_count": 214,
   "id": "dc7a7c70",
   "metadata": {},
   "outputs": [
    {
     "data": {
      "text/plain": [
       "Index(['neighbourhood', 'neighbourhood_cleansed',\n",
       "       'neighbourhood_group_cleansed', 'latitude', 'longitude',\n",
       "       'property_type', 'room_type', 'accommodates', 'bathrooms',\n",
       "       'bathrooms_text', 'bedrooms', 'beds', 'amenities', 'price',\n",
       "       'calendar_updated', 'calendar_last_scraped', 'number_of_reviews',\n",
       "       'number_of_reviews_ltm', 'number_of_reviews_l30d', 'first_review',\n",
       "       'last_review', 'review_scores_rating', 'review_scores_accuracy',\n",
       "       'review_scores_cleanliness', 'review_scores_checkin',\n",
       "       'review_scores_communication', 'review_scores_location',\n",
       "       'review_scores_value', 'license', 'instant_bookable',\n",
       "       'reviews_per_month'],\n",
       "      dtype='object')"
      ]
     },
     "execution_count": 214,
     "metadata": {},
     "output_type": "execute_result"
    }
   ],
   "source": [
    "df.columns  # Noms des colonnes"
   ]
  },
  {
   "cell_type": "code",
   "execution_count": 215,
   "id": "fe2ceac7",
   "metadata": {},
   "outputs": [
    {
     "data": {
      "text/plain": [
       "dtype('O')"
      ]
     },
     "execution_count": 215,
     "metadata": {},
     "output_type": "execute_result"
    }
   ],
   "source": [
    "df['last_review'].dtypes"
   ]
  },
  {
   "cell_type": "code",
   "execution_count": 216,
   "id": "74a0d13c",
   "metadata": {},
   "outputs": [],
   "source": [
    "# Exemple : Conversion en date si applicable\n",
    "df['last_review'] = pd.to_datetime(df['last_review'])"
   ]
  },
  {
   "cell_type": "code",
   "execution_count": 217,
   "id": "9e50c740",
   "metadata": {},
   "outputs": [
    {
     "data": {
      "text/plain": [
       "dtype('<M8[ns]')"
      ]
     },
     "execution_count": 217,
     "metadata": {},
     "output_type": "execute_result"
    }
   ],
   "source": [
    "df['last_review'].dtypes"
   ]
  },
  {
   "cell_type": "code",
   "execution_count": 218,
   "id": "427e02b7",
   "metadata": {},
   "outputs": [
    {
     "data": {
      "text/plain": [
       "0   2019-10-24\n",
       "1   2024-11-23\n",
       "2   2024-11-24\n",
       "3   2015-09-14\n",
       "4          NaT\n",
       "5   2024-09-24\n",
       "6   2024-10-01\n",
       "7   2024-09-27\n",
       "8   2023-10-21\n",
       "9   2010-05-28\n",
       "Name: last_review, dtype: datetime64[ns]"
      ]
     },
     "execution_count": 218,
     "metadata": {},
     "output_type": "execute_result"
    }
   ],
   "source": [
    "df['last_review'].head(10)"
   ]
  },
  {
   "cell_type": "code",
   "execution_count": 219,
   "id": "69daa33c",
   "metadata": {},
   "outputs": [
    {
     "data": {
      "text/plain": [
       "0       2019-10-24\n",
       "1       2024-11-23\n",
       "2       2024-11-24\n",
       "3       2015-09-14\n",
       "4              NaT\n",
       "           ...    \n",
       "91026          NaT\n",
       "91027          NaT\n",
       "91028          NaT\n",
       "91029          NaT\n",
       "91030          NaT\n",
       "Name: last_review, Length: 91031, dtype: datetime64[ns]"
      ]
     },
     "execution_count": 219,
     "metadata": {},
     "output_type": "execute_result"
    }
   ],
   "source": [
    "df['last_review']"
   ]
  },
  {
   "cell_type": "markdown",
   "id": "384fee06",
   "metadata": {},
   "source": [
    "##  Étape 3 : Analyse descriptive"
   ]
  },
  {
   "cell_type": "code",
   "execution_count": 220,
   "id": "01d242dd",
   "metadata": {},
   "outputs": [
    {
     "data": {
      "text/plain": [
       "room_type\n",
       "Entire home/apt    81068\n",
       "Private room        8850\n",
       "Hotel room           732\n",
       "Shared room          381\n",
       "Name: count, dtype: int64"
      ]
     },
     "execution_count": 220,
     "metadata": {},
     "output_type": "execute_result"
    }
   ],
   "source": [
    "df['room_type'].value_counts()"
   ]
  },
  {
   "cell_type": "code",
   "execution_count": 221,
   "id": "9caaa2b6",
   "metadata": {},
   "outputs": [
    {
     "data": {
      "text/plain": [
       "0    $100.00\n",
       "1     $88.00\n",
       "2    $136.00\n",
       "3        NaN\n",
       "4     $75.00\n",
       "5    $150.00\n",
       "6        NaN\n",
       "7     $80.00\n",
       "8    $120.00\n",
       "9        NaN\n",
       "Name: price, dtype: object"
      ]
     },
     "execution_count": 221,
     "metadata": {},
     "output_type": "execute_result"
    }
   ],
   "source": [
    "df['price'].head(10)"
   ]
  },
  {
   "cell_type": "code",
   "execution_count": 222,
   "id": "ca457975",
   "metadata": {},
   "outputs": [
    {
     "data": {
      "text/html": [
       "<div>\n",
       "<style scoped>\n",
       "    .dataframe tbody tr th:only-of-type {\n",
       "        vertical-align: middle;\n",
       "    }\n",
       "\n",
       "    .dataframe tbody tr th {\n",
       "        vertical-align: top;\n",
       "    }\n",
       "\n",
       "    .dataframe thead th {\n",
       "        text-align: right;\n",
       "    }\n",
       "</style>\n",
       "<table border=\"1\" class=\"dataframe\">\n",
       "  <thead>\n",
       "    <tr style=\"text-align: right;\">\n",
       "      <th></th>\n",
       "      <th>0</th>\n",
       "      <th>1</th>\n",
       "    </tr>\n",
       "  </thead>\n",
       "  <tbody>\n",
       "    <tr>\n",
       "      <th>0</th>\n",
       "      <td></td>\n",
       "      <td>100.00</td>\n",
       "    </tr>\n",
       "    <tr>\n",
       "      <th>1</th>\n",
       "      <td></td>\n",
       "      <td>88.00</td>\n",
       "    </tr>\n",
       "    <tr>\n",
       "      <th>2</th>\n",
       "      <td></td>\n",
       "      <td>136.00</td>\n",
       "    </tr>\n",
       "    <tr>\n",
       "      <th>3</th>\n",
       "      <td>NaN</td>\n",
       "      <td>NaN</td>\n",
       "    </tr>\n",
       "    <tr>\n",
       "      <th>4</th>\n",
       "      <td></td>\n",
       "      <td>75.00</td>\n",
       "    </tr>\n",
       "    <tr>\n",
       "      <th>...</th>\n",
       "      <td>...</td>\n",
       "      <td>...</td>\n",
       "    </tr>\n",
       "    <tr>\n",
       "      <th>91026</th>\n",
       "      <td></td>\n",
       "      <td>100.00</td>\n",
       "    </tr>\n",
       "    <tr>\n",
       "      <th>91027</th>\n",
       "      <td></td>\n",
       "      <td>80.00</td>\n",
       "    </tr>\n",
       "    <tr>\n",
       "      <th>91028</th>\n",
       "      <td></td>\n",
       "      <td>818.00</td>\n",
       "    </tr>\n",
       "    <tr>\n",
       "      <th>91029</th>\n",
       "      <td></td>\n",
       "      <td>840.00</td>\n",
       "    </tr>\n",
       "    <tr>\n",
       "      <th>91030</th>\n",
       "      <td></td>\n",
       "      <td>66.00</td>\n",
       "    </tr>\n",
       "  </tbody>\n",
       "</table>\n",
       "<p>91031 rows × 2 columns</p>\n",
       "</div>"
      ],
      "text/plain": [
       "         0       1\n",
       "0           100.00\n",
       "1            88.00\n",
       "2           136.00\n",
       "3      NaN     NaN\n",
       "4            75.00\n",
       "...    ...     ...\n",
       "91026       100.00\n",
       "91027        80.00\n",
       "91028       818.00\n",
       "91029       840.00\n",
       "91030        66.00\n",
       "\n",
       "[91031 rows x 2 columns]"
      ]
     },
     "execution_count": 222,
     "metadata": {},
     "output_type": "execute_result"
    }
   ],
   "source": [
    "df['price'].str.split('$', expand=True)"
   ]
  },
  {
   "cell_type": "code",
   "execution_count": 223,
   "id": "5519ae77",
   "metadata": {},
   "outputs": [
    {
     "data": {
      "text/plain": [
       "0        100.0\n",
       "1         88.0\n",
       "2        136.0\n",
       "3          NaN\n",
       "4         75.0\n",
       "         ...  \n",
       "91026    100.0\n",
       "91027     80.0\n",
       "91028    818.0\n",
       "91029    840.0\n",
       "91030     66.0\n",
       "Name: price, Length: 91031, dtype: float64"
      ]
     },
     "execution_count": 223,
     "metadata": {},
     "output_type": "execute_result"
    }
   ],
   "source": [
    "df['price'].str.replace('[$,]', '', regex=True).astype(float)"
   ]
  },
  {
   "cell_type": "code",
   "execution_count": 224,
   "id": "8e8e8af2",
   "metadata": {},
   "outputs": [],
   "source": [
    "df['price'] = df['price'].str.replace('[$,]', '', regex=True).astype(float)"
   ]
  },
  {
   "cell_type": "code",
   "execution_count": 225,
   "id": "d23d21db",
   "metadata": {},
   "outputs": [
    {
     "data": {
      "text/plain": [
       "room_type\n",
       "Entire home/apt    259.783621\n",
       "Hotel room         306.933213\n",
       "Private room       179.769480\n",
       "Shared room         94.336207\n",
       "Name: price, dtype: float64"
      ]
     },
     "execution_count": 225,
     "metadata": {},
     "output_type": "execute_result"
    }
   ],
   "source": [
    "df.groupby('room_type')['price'].mean()"
   ]
  },
  {
   "cell_type": "code",
   "execution_count": 226,
   "id": "eabc93dd",
   "metadata": {},
   "outputs": [
    {
     "data": {
      "text/plain": [
       "<Axes: xlabel='room_type'>"
      ]
     },
     "execution_count": 226,
     "metadata": {},
     "output_type": "execute_result"
    },
    {
     "data": {
      "image/png": "[encoded data removed]",
      "text/plain": [
       "<Figure size 640x480 with 1 Axes>"
      ]
     },
     "metadata": {},
     "output_type": "display_data"
    }
   ],
   "source": [
    "# Prix moyen par type de logement\n",
    "df.groupby('room_type')['price'].mean().plot(kind='bar')"
   ]
  },
  {
   "cell_type": "markdown",
   "id": "6aad211b",
   "metadata": {},
   "source": [
    "Quels sont les 10 quartiers avec le plus grand nombre d’annonces ?"
   ]
  },
  {
   "cell_type": "code",
   "execution_count": 227,
   "id": "67bad888",
   "metadata": {},
   "outputs": [
    {
     "data": {
      "text/plain": [
       "neighbourhood                   45135\n",
       "neighbourhood_cleansed              0\n",
       "neighbourhood_group_cleansed    91031\n",
       "dtype: int64"
      ]
     },
     "execution_count": 227,
     "metadata": {},
     "output_type": "execute_result"
    }
   ],
   "source": [
    "# Sélection des colonnes contenant 'neighbourhood'\n",
    "neigh_cols = df.columns[df.columns.str.contains('neighbourhood')]\n",
    "\n",
    "df[neigh_cols].isna().sum()"
   ]
  },
  {
   "cell_type": "code",
   "execution_count": 228,
   "id": "409038bf",
   "metadata": {},
   "outputs": [
    {
     "data": {
      "text/plain": [
       "neighbourhood                    1\n",
       "neighbourhood_cleansed          20\n",
       "neighbourhood_group_cleansed     0\n",
       "dtype: int64"
      ]
     },
     "execution_count": 228,
     "metadata": {},
     "output_type": "execute_result"
    }
   ],
   "source": [
    "df[neigh_cols].nunique()"
   ]
  },
  {
   "cell_type": "code",
   "execution_count": 229,
   "id": "81b1d8ab",
   "metadata": {},
   "outputs": [
    {
     "data": {
      "text/plain": [
       "<Axes: xlabel='neighbourhood_cleansed'>"
      ]
     },
     "execution_count": 229,
     "metadata": {},
     "output_type": "execute_result"
    },
    {
     "data": {
      "image/png": "[encoded data removed]",
      "text/plain": [
       "<Figure size 640x480 with 1 Axes>"
      ]
     },
     "metadata": {},
     "output_type": "display_data"
    }
   ],
   "source": [
    "# Nombre d’annonces par quartier\n",
    "df['neighbourhood_cleansed'].value_counts().plot(kind='bar')"
   ]
  },
  {
   "cell_type": "markdown",
   "id": "78bdc5ac",
   "metadata": {},
   "source": [
    "Calcule le prix moyen et médian par quartier (`neighbourhood`)"
   ]
  },
  {
   "cell_type": "code",
   "execution_count": 230,
   "id": "f4477414",
   "metadata": {},
   "outputs": [
    {
     "data": {
      "text/plain": [
       "<Axes: xlabel='neighbourhood_cleansed'>"
      ]
     },
     "execution_count": 230,
     "metadata": {},
     "output_type": "execute_result"
    },
    {
     "data": {
      "image/png": "[encoded data removed]",
      "text/plain": [
       "<Figure size 640x480 with 1 Axes>"
      ]
     },
     "metadata": {},
     "output_type": "display_data"
    }
   ],
   "source": [
    "(df.groupby('neighbourhood_cleansed')['price']\n",
    "    .agg(['mean', 'median'])\n",
    "    .sort_values(by='mean', ascending=False)\n",
    "    .head(10)\n",
    "    .plot(kind='bar')\n",
    ") "
   ]
  },
  {
   "cell_type": "code",
   "execution_count": 231,
   "id": "6891e26e",
   "metadata": {},
   "outputs": [
    {
     "data": {
      "text/plain": [
       "<Axes: ylabel='Frequency'>"
      ]
     },
     "execution_count": 231,
     "metadata": {},
     "output_type": "execute_result"
    },
    {
     "data": {
      "image/png": "[encoded data removed]",
      "text/plain": [
       "<Figure size 640x480 with 1 Axes>"
      ]
     },
     "metadata": {},
     "output_type": "display_data"
    }
   ],
   "source": [
    "# Créer la colonne 'price_per_person' uniquement si 'accommodates' > 0\n",
    "df['price_per_person'] = df.apply(\n",
    "    lambda row: row['price'] / row['accommodates'] if pd.notnull(row['accommodates']) and row['accommodates'] > 0 else None,\n",
    "    axis=1\n",
    ")\n",
    "\n",
    "df['price_per_person'].head(50).plot(kind='hist', bins=50)"
   ]
  },
  {
   "cell_type": "markdown",
   "id": "c04782c9",
   "metadata": {},
   "source": [
    "##  Étape 4 : Visualisation simple"
   ]
  },
  {
   "cell_type": "code",
   "execution_count": 232,
   "id": "f2271c74",
   "metadata": {},
   "outputs": [
    {
     "data": {
      "text/plain": [
       "Text(0, 0.5, 'Nombre dannonces')"
      ]
     },
     "execution_count": 232,
     "metadata": {},
     "output_type": "execute_result"
    },
    {
     "data": {
      "image/png": "[encoded data removed]",
      "text/plain": [
       "<Figure size 640x480 with 1 Axes>"
      ]
     },
     "metadata": {},
     "output_type": "display_data"
    }
   ],
   "source": [
    "# Histogramme des prix (cap à 500€ pour lisibilité)\n",
    "df[df['price'] < 500]['price'].hist(bins=50)\n",
    "plt.title('Distribution des prix (<500€)')\n",
    "plt.xlabel('Prix (€)')\n",
    "plt.ylabel('Nombre dannonces')"
   ]
  },
  {
   "cell_type": "code",
   "execution_count": 233,
   "id": "fb4b1ba1",
   "metadata": {},
   "outputs": [
    {
     "data": {
      "text/plain": [
       "Text(0.5, 1.0, 'Répartition des types de logements')"
      ]
     },
     "execution_count": 233,
     "metadata": {},
     "output_type": "execute_result"
    },
    {
     "data": {
      "image/png": "[encoded data removed]",
      "text/plain": [
       "<Figure size 640x480 with 1 Axes>"
      ]
     },
     "metadata": {},
     "output_type": "display_data"
    }
   ],
   "source": [
    "# Barplot du nombre d'annonces par type de logement\n",
    "df['room_type'].value_counts().plot(kind='bar')\n",
    "plt.title('Répartition des types de logements')"
   ]
  },
  {
   "cell_type": "markdown",
   "id": "df8f24f2",
   "metadata": {},
   "source": [
    "##  Étape 5 : Synthèse"
   ]
  },
  {
   "cell_type": "code",
   "execution_count": 234,
   "id": "e0e171d5",
   "metadata": {},
   "outputs": [
    {
     "data": {
      "text/plain": [
       "neighbourhood\n",
       "Neighborhood highlights    260.260556\n",
       "Name: price, dtype: float64"
      ]
     },
     "execution_count": 234,
     "metadata": {},
     "output_type": "execute_result"
    }
   ],
   "source": [
    "# Quartiers avec le prix moyen le plus élevé\n",
    "df.groupby('neighbourhood')['price'].mean().sort_values(ascending=False).head(5)"
   ]
  },
  {
   "cell_type": "markdown",
   "id": "4d1925b1",
   "metadata": {},
   "source": [
    "##  Étape 6 : Mini-défi final (autonomie)\n",
    "\n",
    "1. Quels sont les 5 hôtes qui ont le plus grand nombre d’annonces ?\n",
    "2. Quel est le prix moyen par nuit pour les logements entiers ?\n",
    "3. Quelle est la relation entre nombre de commentaires et prix ?\n",
    "4. Quelle est la note moyenne par quartier (si la colonne existe) ?"
   ]
  },
  {
   "cell_type": "markdown",
   "id": "8995b8d0",
   "metadata": {},
   "source": [
    "Pour cela il faut recharger le dataset car nous avons supprimé des colonnes"
   ]
  },
  {
   "cell_type": "code",
   "execution_count": 235,
   "id": "efb7c04c",
   "metadata": {},
   "outputs": [],
   "source": [
    "df = pd.read_csv(file_path, parse_dates=True)"
   ]
  },
  {
   "cell_type": "code",
   "execution_count": 236,
   "id": "beaf5a00",
   "metadata": {},
   "outputs": [
    {
     "name": "stdout",
     "output_type": "stream",
     "text": [
      "Top 5 hôtes avec le plus d’annonces :\n",
      "host_id\n",
      "314994947    826\n",
      "33889201     498\n",
      "50978178     344\n",
      "460047164    326\n",
      "26981054     244\n",
      "Name: count, dtype: int64\n"
     ]
    }
   ],
   "source": [
    "top_hosts = df['host_id'].value_counts().head(5)\n",
    "print(\"Top 5 hôtes avec le plus d’annonces :\")\n",
    "print(top_hosts)"
   ]
  },
  {
   "cell_type": "code",
   "execution_count": 237,
   "id": "1fafd71d",
   "metadata": {},
   "outputs": [
    {
     "name": "stdout",
     "output_type": "stream",
     "text": [
      "         host_id                host_name  annonce_count\n",
      "52856  314994947               Blueground            826\n",
      "26090   33889201                    Veeve            498\n",
      "32401   50978178                Sébastien            344\n",
      "57615  460047164               FlexLiving            326\n",
      "22612   26981054  Cédric De ClickYourFlat            244\n"
     ]
    }
   ],
   "source": [
    "# Pour avoir leur nom\n",
    "top_hosts_df = (\n",
    "    df.groupby(['host_id', 'host_name'])\n",
    "        .size()\n",
    "        .reset_index(name='annonce_count')\n",
    "        .sort_values(by='annonce_count', ascending=False)\n",
    "        .head(5)\n",
    ")\n",
    "print(top_hosts_df)"
   ]
  },
  {
   "cell_type": "markdown",
   "id": "b55235d1",
   "metadata": {},
   "source": [
    "Quel est le prix moyen par nuit pour les logements entiers ?"
   ]
  },
  {
   "cell_type": "code",
   "execution_count": 238,
   "id": "35ef04a5",
   "metadata": {},
   "outputs": [
    {
     "name": "stdout",
     "output_type": "stream",
     "text": [
      "Prix moyen par nuit pour les logements entiers : $259.78\n"
     ]
    }
   ],
   "source": [
    "df['price'] = df['price'].replace('[\\$,]', '', regex=True).astype(float)\n",
    "\n",
    "prix_moyen_entiers = df[df['room_type'] == 'Entire home/apt']['price'].mean()\n",
    "print(f\"Prix moyen par nuit pour les logements entiers : ${prix_moyen_entiers:.2f}\")"
   ]
  },
  {
   "cell_type": "markdown",
   "id": "f8bcd175",
   "metadata": {},
   "source": [
    "Quelle est la relation entre nombre de commentaires et prix ?"
   ]
  },
  {
   "cell_type": "code",
   "execution_count": 239,
   "id": "ac40d530",
   "metadata": {},
   "outputs": [
    {
     "data": {
      "text/html": [
       "<div>\n",
       "<style scoped>\n",
       "    .dataframe tbody tr th:only-of-type {\n",
       "        vertical-align: middle;\n",
       "    }\n",
       "\n",
       "    .dataframe tbody tr th {\n",
       "        vertical-align: top;\n",
       "    }\n",
       "\n",
       "    .dataframe thead th {\n",
       "        text-align: right;\n",
       "    }\n",
       "</style>\n",
       "<table border=\"1\" class=\"dataframe\">\n",
       "  <thead>\n",
       "    <tr style=\"text-align: right;\">\n",
       "      <th></th>\n",
       "      <th>number_of_reviews</th>\n",
       "      <th>price</th>\n",
       "    </tr>\n",
       "  </thead>\n",
       "  <tbody>\n",
       "    <tr>\n",
       "      <th>0</th>\n",
       "      <td>4</td>\n",
       "      <td>100.0</td>\n",
       "    </tr>\n",
       "    <tr>\n",
       "      <th>1</th>\n",
       "      <td>425</td>\n",
       "      <td>88.0</td>\n",
       "    </tr>\n",
       "    <tr>\n",
       "      <th>2</th>\n",
       "      <td>367</td>\n",
       "      <td>136.0</td>\n",
       "    </tr>\n",
       "    <tr>\n",
       "      <th>3</th>\n",
       "      <td>5</td>\n",
       "      <td>NaN</td>\n",
       "    </tr>\n",
       "    <tr>\n",
       "      <th>4</th>\n",
       "      <td>0</td>\n",
       "      <td>75.0</td>\n",
       "    </tr>\n",
       "    <tr>\n",
       "      <th>...</th>\n",
       "      <td>...</td>\n",
       "      <td>...</td>\n",
       "    </tr>\n",
       "    <tr>\n",
       "      <th>91026</th>\n",
       "      <td>0</td>\n",
       "      <td>100.0</td>\n",
       "    </tr>\n",
       "    <tr>\n",
       "      <th>91027</th>\n",
       "      <td>0</td>\n",
       "      <td>80.0</td>\n",
       "    </tr>\n",
       "    <tr>\n",
       "      <th>91028</th>\n",
       "      <td>0</td>\n",
       "      <td>818.0</td>\n",
       "    </tr>\n",
       "    <tr>\n",
       "      <th>91029</th>\n",
       "      <td>0</td>\n",
       "      <td>840.0</td>\n",
       "    </tr>\n",
       "    <tr>\n",
       "      <th>91030</th>\n",
       "      <td>0</td>\n",
       "      <td>66.0</td>\n",
       "    </tr>\n",
       "  </tbody>\n",
       "</table>\n",
       "<p>91031 rows × 2 columns</p>\n",
       "</div>"
      ],
      "text/plain": [
       "       number_of_reviews  price\n",
       "0                      4  100.0\n",
       "1                    425   88.0\n",
       "2                    367  136.0\n",
       "3                      5    NaN\n",
       "4                      0   75.0\n",
       "...                  ...    ...\n",
       "91026                  0  100.0\n",
       "91027                  0   80.0\n",
       "91028                  0  818.0\n",
       "91029                  0  840.0\n",
       "91030                  0   66.0\n",
       "\n",
       "[91031 rows x 2 columns]"
      ]
     },
     "execution_count": 239,
     "metadata": {},
     "output_type": "execute_result"
    }
   ],
   "source": [
    "df[['number_of_reviews', 'price']]"
   ]
  },
  {
   "cell_type": "markdown",
   "id": "a6c0eb91",
   "metadata": {},
   "source": [
    "On donne directement les données à matplotlib"
   ]
  },
  {
   "cell_type": "code",
   "execution_count": 240,
   "id": "637fbd77",
   "metadata": {},
   "outputs": [
    {
     "data": {
      "text/plain": [
       "Text(0, 0.5, 'Prix')"
      ]
     },
     "execution_count": 240,
     "metadata": {},
     "output_type": "execute_result"
    },
    {
     "data": {
      "image/png": "[encoded data removed]",
      "text/plain": [
       "<Figure size 640x480 with 1 Axes>"
      ]
     },
     "metadata": {},
     "output_type": "display_data"
    }
   ],
   "source": [
    "plt.scatter(df['number_of_reviews'], df['price'])\n",
    "plt.xlabel('Nombre d\\'avis')\n",
    "plt.ylabel('Prix')"
   ]
  },
  {
   "cell_type": "code",
   "execution_count": 241,
   "id": "03f33d38",
   "metadata": {},
   "outputs": [
    {
     "name": "stdout",
     "output_type": "stream",
     "text": [
      "Corrélation entre nombre de commentaires et prix : -0.05\n"
     ]
    }
   ],
   "source": [
    "# on peut aussi calculer la corrélation\n",
    "correlation = df[['number_of_reviews', 'price']].corr().iloc[0, 1]\n",
    "print(f\"Corrélation entre nombre de commentaires et prix : {correlation:.2f}\")"
   ]
  },
  {
   "cell_type": "code",
   "execution_count": 242,
   "id": "db8cd253",
   "metadata": {},
   "outputs": [
    {
     "data": {
      "text/plain": [
       "np.float64(-0.05297096273069312)"
      ]
     },
     "execution_count": 242,
     "metadata": {},
     "output_type": "execute_result"
    }
   ],
   "source": [
    "correlation"
   ]
  },
  {
   "cell_type": "markdown",
   "id": "15dca88f",
   "metadata": {},
   "source": [
    "Quelle est la note moyenne par quartier (si la colonne existe) ?"
   ]
  },
  {
   "cell_type": "code",
   "execution_count": 243,
   "id": "fdeff747",
   "metadata": {},
   "outputs": [
    {
     "name": "stdout",
     "output_type": "stream",
     "text": [
      "Note moyenne par quartier :\n",
      "neighbourhood_cleansed\n",
      "Ménilmontant         4.761031\n",
      "Buttes-Chaumont      4.751502\n",
      "Popincourt           4.743938\n",
      "Buttes-Montmartre    4.741841\n",
      "Entrepôt             4.734747\n",
      "Palais-Bourbon       4.731723\n",
      "Opéra                4.726306\n",
      "Gobelins             4.723902\n",
      "Panthéon             4.722702\n",
      "Hôtel-de-Ville       4.721138\n",
      "Name: review_scores_rating, dtype: float64\n"
     ]
    }
   ],
   "source": [
    "note_moyenne = df.groupby('neighbourhood_cleansed')['review_scores_rating'].mean().sort_values(ascending=False)\n",
    "print(\"Note moyenne par quartier :\")\n",
    "print(note_moyenne.head(10))"
   ]
  }
 ],
 "metadata": {
  "kernelspec": {
   "display_name": ".venv",
   "language": "python",
   "name": "python3"
  },
  "language_info": {
   "codemirror_mode": {
    "name": "ipython",
    "version": 3
   },
   "file_extension": ".py",
   "mimetype": "text/x-python",
   "name": "python",
   "nbconvert_exporter": "python",
   "pygments_lexer": "ipython3",
   "version": "3.11.5"
  }
 },
 "nbformat": 4,
 "nbformat_minor": 5
}
