{
 "cells": [
  {
   "cell_type": "markdown",
   "id": "0865cc07",
   "metadata": {},
   "source": [
    "# 🏡 Atelier EDA avec Pandas – Données Airbnb Paris\n",
    "\n",
    "Dans ce notebook, vous allez explorer les données d'annonces Airbnb à Paris à l'aide de `pandas`. L'objectif est de pratiquer les étapes classiques de l'EDA : lecture, nettoyage, analyse et visualisation."
   ]
  },
  {
   "cell_type": "code",
   "execution_count": null,
   "id": "80ce049f",
   "metadata": {},
   "outputs": [],
   "source": [
    "import pandas as pd\n",
    "import matplotlib.pyplot as plt"
   ]
  },
  {
   "cell_type": "markdown",
   "id": "51d95571",
   "metadata": {},
   "source": [
    "##  Étape 1 : Chargement et première exploration\n",
    "\n",
    "1. Charge le fichier `listings.csv` dans un DataFrame.\n",
    "2. Affiche les 5 premières lignes.\n",
    "3. Combien y a-t-il de lignes et de colonnes ?\n",
    "4. Quelles sont les colonnes disponibles et leurs types ?\n",
    "5. Résume les statistiques descriptives des colonnes numériques."
   ]
  },
  {
   "cell_type": "markdown",
   "id": "6e7988b9",
   "metadata": {},
   "source": [
    "##  Étape 2 : Nettoyage des données\n",
    "\n",
    "1. Identifie les colonnes contenant des valeurs manquantes et quantifie-les.\n",
    "2. Propose une stratégie de traitement des colonnes les plus problématiques.\n",
    "3. Si nécessaire, convertis les colonnes de type date au bon format (`datetime`).\n",
    "4. Supprime ou renomme les colonnes inutiles."
   ]
  },
  {
   "cell_type": "markdown",
   "id": "856a16c6",
   "metadata": {},
   "source": [
    "##  Étape 3 : Analyse descriptive\n",
    "\n",
    "1. Quel est le prix moyen par type de logement (`room_type`) ?\n",
    "2. Quels sont les 10 quartiers avec le plus grand nombre d’annonces ?\n",
    "3. Calcule le prix moyen et médian par quartier (`neighbourhood`).\n",
    "4. Crée une nouvelle colonne indiquant le prix par personne (si la capacité est disponible)."
   ]
  },
  {
   "cell_type": "markdown",
   "id": "89da1d52",
   "metadata": {},
   "source": [
    "##  Étape 4 : Visualisation simple\n",
    "\n",
    "1. Trace un histogramme de la distribution des prix (par exemple, jusqu’à 500€).\n",
    "2. Crée un diagramme en barres du nombre d’annonces par type de logement.\n",
    "3. (Bonus) Réalise un graphique montrant le prix moyen par quartier."
   ]
  },
  {
   "cell_type": "markdown",
   "id": "a055325e",
   "metadata": {},
   "source": [
    "##  Étape 5 : Synthèse\n",
    "\n",
    "1. Quels sont les 5 quartiers les plus chers en moyenne ?\n",
    "2. Quelle est la proportion de logements entiers par rapport aux chambres privées ?\n",
    "3. Quel est le prix médian pour les logements entiers à Paris ?"
   ]
  },
  {
   "cell_type": "markdown",
   "id": "a4b3fa8a",
   "metadata": {},
   "source": [
    "##  Étape 6 : Mini-défi final (autonomie)\n",
    "\n",
    "1. Qui sont les 5 hôtes avec le plus grand nombre d’annonces ?\n",
    "2. Quel est le lien entre le nombre de commentaires et le prix ?\n",
    "3. Y a-t-il des anomalies ou des valeurs aberrantes dans les prix ?\n",
    "4. Quelles sont les colonnes les plus pertinentes pour prédire le prix d’un logement ?"
   ]
  }
 ],
 "metadata": {
  "language_info": {
   "name": "python"
  }
 },
 "nbformat": 4,
 "nbformat_minor": 5
}
