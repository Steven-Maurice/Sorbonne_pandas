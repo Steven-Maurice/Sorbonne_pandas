{
 "cells": [
  {
   "cell_type": "markdown",
   "metadata": {},
   "source": [
    "# Analyse de Séries Temporelles\n",
    "\n",
    "Ce notebook couvre les étapes suivantes :\n",
    "\n",
    "1. Chargement d'un dataset de séries temporelles (ex : météo)\n",
    "2. Nettoyage et conversion des dates\n",
    "3. Resampling mensuel\n",
    "4. Création de colonnes avec moyennes et écarts-types glissants\n",
    "5. Détection d'anomalies\n",
    "6. Visualisation à différentes granularités"
   ]
  },
  {
   "cell_type": "code",
   "execution_count": null,
   "metadata": {},
   "outputs": [],
   "source": [
    "# 1. Chargement des données\n",
    "import pandas as pd\n",
    "import matplotlib.pyplot as plt\n",
    "\n",
    "# Exemple avec un dataset météo (Températures journalières)\n",
    "url = \"https://raw.githubusercontent.com/jbrownlee/Datasets/master/daily-min-temperatures.csv\"\n",
    "df = pd.read_csv(url)\n",
    "df.head()"
   ]
  },
  {
   "cell_type": "code",
   "execution_count": null,
   "metadata": {},
   "outputs": [],
   "source": [
    "# 2. Nettoyage et conversion des dates\n",
    "df.dtypes\n"
   ]
  },
  {
   "cell_type": "code",
   "execution_count": null,
   "id": "31b20743",
   "metadata": {},
   "outputs": [],
   "source": [
    "df['Date'] = pd.to_datetime(df['Date'])\n",
    "df.dtypes"
   ]
  },
  {
   "cell_type": "code",
   "execution_count": null,
   "id": "0ba6d024",
   "metadata": {},
   "outputs": [],
   "source": [
    "df.set_index('Date', inplace=True)\n",
    "df.head()"
   ]
  },
  {
   "cell_type": "code",
   "execution_count": null,
   "id": "ce7bf35f",
   "metadata": {},
   "outputs": [],
   "source": [
    "df = df.rename(columns={df.columns[0]: 'Temperature'})\n",
    "df.head()"
   ]
  },
  {
   "cell_type": "code",
   "execution_count": null,
   "id": "df6f5b90",
   "metadata": {},
   "outputs": [],
   "source": [
    "df.index.max()"
   ]
  },
  {
   "cell_type": "code",
   "execution_count": null,
   "metadata": {},
   "outputs": [],
   "source": [
    "# 3. Resampling mensuel (moyenne)\n",
    "df.loc[\"1990\"]"
   ]
  },
  {
   "cell_type": "code",
   "execution_count": null,
   "id": "06234600",
   "metadata": {},
   "outputs": [],
   "source": [
    "df_1990 = df.loc[\"1990\"]\n",
    "df_monthly = df_1990.resample('ME').mean()"
   ]
  },
  {
   "cell_type": "code",
   "execution_count": null,
   "id": "786e06be",
   "metadata": {},
   "outputs": [],
   "source": [
    "df_monthly.plot(title='Température moyenne mensuelle')\n",
    "plt.ylabel(\"Température (°C)\")\n",
    "plt.show()"
   ]
  },
  {
   "cell_type": "code",
   "execution_count": null,
   "metadata": {},
   "outputs": [],
   "source": [
    "# 4. Moyennes et écarts-types glissants (rolling)\n",
    "df['Rolling_Mean_7'] = df['Temperature'].rolling(window=7).mean()\n",
    "df['Rolling_Std_7'] = df['Temperature'].rolling(window=7).std()\n",
    "df[['Temperature', 'Rolling_Mean_7', 'Rolling_Std_7']].plot(figsize=(12, 5), title='Température et moyenne/écart-type sur 7 jours')\n",
    "plt.show()"
   ]
  },
  {
   "cell_type": "code",
   "execution_count": null,
   "metadata": {},
   "outputs": [],
   "source": [
    "# 5. Détection d'anomalies (écarts > 2*std)\n",
    "df['Anomaly'] = (df['Temperature'] - df['Rolling_Mean_7']).abs() > 2 * df['Rolling_Std_7']\n",
    "df['Anomaly'].value_counts()"
   ]
  },
  {
   "cell_type": "code",
   "execution_count": null,
   "metadata": {},
   "outputs": [],
   "source": [
    "# Affichage des anomalies\n",
    "df_anomalies = df[df['Anomaly']]\n",
    "plt.figure(figsize=(12, 5))\n",
    "plt.plot(df['Temperature'], label='Température')\n",
    "plt.scatter(df_anomalies.index, df_anomalies['Temperature'], color='red', label='Anomalies')\n",
    "plt.legend()\n",
    "plt.title('Anomalies détectées')\n",
    "plt.show()"
   ]
  },
  {
   "cell_type": "code",
   "execution_count": null,
   "metadata": {},
   "outputs": [],
   "source": [
    "# 6. Visualisation à différentes granularités\n",
    "fig, ax = plt.subplots(3, 1, figsize=(12, 10))\n",
    "\n",
    "# Journalier\n",
    "df['Temperature'].plot(ax=ax[0], title='Journalier')\n",
    "\n",
    "# Hebdomadaire\n",
    "df.resample('W').mean()['Temperature'].plot(ax=ax[1], title='Hebdomadaire')\n",
    "\n",
    "# Mensuel\n",
    "df.resample('M').mean()['Temperature'].plot(ax=ax[2], title='Mensuel')\n",
    "\n",
    "plt.tight_layout()\n",
    "plt.show()"
   ]
  },
  {
   "cell_type": "markdown",
   "id": "340d4446",
   "metadata": {},
   "source": [
    "Video youtube expliquant clairement les séries temporelles \n",
    "\n",
    "\n",
    "https://www.youtube.com/watch?v=qHRLG5hsW9I"
   ]
  }
 ],
 "metadata": {
  "kernelspec": {
   "display_name": ".venv",
   "language": "python",
   "name": "python3"
  },
  "language_info": {
   "codemirror_mode": {
    "name": "ipython",
    "version": 3
   },
   "file_extension": ".py",
   "mimetype": "text/x-python",
   "name": "python",
   "nbconvert_exporter": "python",
   "pygments_lexer": "ipython3",
   "version": "3.11.5"
  }
 },
 "nbformat": 4,
 "nbformat_minor": 5
}
