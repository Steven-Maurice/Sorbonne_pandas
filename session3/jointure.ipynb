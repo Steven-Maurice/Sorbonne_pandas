{
 "cells": [
  {
   "cell_type": "markdown",
   "id": "00e232de",
   "metadata": {},
   "source": [
    "### Explication des jointures"
   ]
  },
  {
   "cell_type": "markdown",
   "id": "aa9deb9c",
   "metadata": {},
   "source": [
    "1. Chargement des données"
   ]
  },
  {
   "cell_type": "code",
   "execution_count": 1,
   "id": "08a61945",
   "metadata": {},
   "outputs": [],
   "source": [
    "import pandas as pd\n",
    "\n",
    "# URLs des fichiers CSV\n",
    "url_customers = \"https://github.com/MicrosoftLearning/dp-data/blob/main/customers.csv?raw=true\"\n",
    "url_orders = \"https://github.com/MicrosoftLearning/dp-data/blob/main/orders.csv?raw=true\"\n",
    "url_products = \"https://github.com/MicrosoftLearning/dp-data/blob/main/products.csv?raw=true\"\n",
    "\n",
    "\n",
    "# Chargement\n",
    "customers = pd.read_csv(url_customers)\n",
    "orders = pd.read_csv(url_orders)\n",
    "products = pd.read_csv(url_products)\n"
   ]
  },
  {
   "cell_type": "markdown",
   "id": "4bc53284",
   "metadata": {},
   "source": [
    "### Faire une jointure avec merge()"
   ]
  },
  {
   "cell_type": "markdown",
   "id": "09a07e23",
   "metadata": {},
   "source": [
    "### Faire une jointure avec join() "
   ]
  }
 ],
 "metadata": {
  "kernelspec": {
   "display_name": ".venv",
   "language": "python",
   "name": "python3"
  },
  "language_info": {
   "codemirror_mode": {
    "name": "ipython",
    "version": 3
   },
   "file_extension": ".py",
   "mimetype": "text/x-python",
   "name": "python",
   "nbconvert_exporter": "python",
   "pygments_lexer": "ipython3",
   "version": "3.11.5"
  }
 },
 "nbformat": 4,
 "nbformat_minor": 5
}
